{
 "cells": [
  {
   "cell_type": "markdown",
   "metadata": {},
   "source": [
    "# Cross-Frequency Training"
   ]
  },
  {
   "cell_type": "code",
   "execution_count": 1,
   "metadata": {},
   "outputs": [
    {
     "name": "stderr",
     "output_type": "stream",
     "text": [
      "Using TensorFlow backend.\n"
     ]
    }
   ],
   "source": [
    "%matplotlib inline\n",
    "import matplotlib.pyplot as plt\n",
    "import matplotlib.image as mpimg\n",
    "import tensorflow as tf\n",
    "from keras.preprocessing.image import ImageDataGenerator\n",
    "from keras.models import Sequential, Model\n",
    "from keras.optimizers import RMSprop,Adam,SGD\n",
    "from keras.layers import Activation, concatenate, Input, Dropout, Flatten, BatchNormalization, Dense, GlobalMaxPooling2D, Conv2D, MaxPooling2D\n",
    "from keras.callbacks import CSVLogger\n",
    "from livelossplot.keras import PlotLossesCallback\n",
    "import efficientnet.keras as efn\n",
    "import h5py, glob\n",
    "import numpy as np\n",
    "import itertools\n",
    "from cnn_utils import *\n",
    "from tensorflow.compat.v1 import ConfigProto\n",
    "from tensorflow.compat.v1 import InteractiveSession\n",
    "from sklearn.metrics import classification_report, confusion_matrix\n",
    "\n",
    "np.random.seed(1)\n",
    "\n",
    "from tensorflow.compat.v1 import ConfigProto\n",
    "from tensorflow.compat.v1 import InteractiveSession\n",
    "\n",
    "config = ConfigProto()\n",
    "config.gpu_options.allow_growth = True\n",
    "session = InteractiveSession(config=config)"
   ]
  },
  {
   "cell_type": "code",
   "execution_count": 2,
   "metadata": {},
   "outputs": [
    {
     "data": {
      "text/plain": [
       "True"
      ]
     },
     "execution_count": 2,
     "metadata": {},
     "output_type": "execute_result"
    }
   ],
   "source": [
    "tf.test.is_gpu_available(\n",
    "    cuda_only=False,\n",
    "    min_cuda_compute_capability=None\n",
    ")"
   ]
  },
  {
   "cell_type": "code",
   "execution_count": 3,
   "metadata": {},
   "outputs": [],
   "source": [
    "### CAE hyp\n",
    "batch_size = 64\n",
    "epochs = 200\n",
    "inChannel = 3\n",
    "x, y = 64, 64\n",
    "input_img = Input(shape = (x, y, inChannel))\n",
    "num_class = 11"
   ]
  },
  {
   "cell_type": "markdown",
   "metadata": {},
   "source": [
    "## Load Data "
   ]
  },
  {
   "cell_type": "code",
   "execution_count": 4,
   "metadata": {},
   "outputs": [
    {
     "name": "stdout",
     "output_type": "stream",
     "text": [
      "1. Datasets Number of training samples:  521\n",
      "1. Datasets Number of test samples:  224\n",
      "2. Datasets Number of training samples:  1483\n",
      "2. Datasets Number of test samples:  636\n",
      "3. Datasets Number of training samples:  458\n",
      "3. Datasets Number of test samples:  197\n",
      "4. Datasets Number of training samples:  564\n",
      "4. Datasets Number of test samples:  243\n"
     ]
    }
   ],
   "source": [
    "datapath = 'datasets/*.hdf5'\n",
    "all_data = glob.glob(datapath)\n",
    "\n",
    "data_10 = h5py.File(all_data[1], \"r\")\n",
    "data_24 = h5py.File(all_data[3], \"r\")\n",
    "data_77 = h5py.File(all_data[5], \"r\")\n",
    "data_tobb = h5py.File(all_data[7], \"r\")\n",
    "\n",
    "# test_path4 = 'Tobb_dataset/tobb_dataset_128x128.hdf5' # file path for TOBB data  \n",
    "# testset4   = h5py.File(test_path4, \"r\")\n",
    "\n",
    "X_train_10 = np.array(data_10[\"train_img\"])\n",
    "Y_train_10 = np.array(data_10[\"train_labels\"])\n",
    "# X_valid_orig = np.array(validset[\"valid_img\"])\n",
    "# Y_valid_orig = np.array(validset[\"valid_labels\"])\n",
    "X_test_10 = np.array(data_10[\"test_img\"])\n",
    "Y_test_10 = np.array(data_10[\"test_labels\"])\n",
    "print('1. Dataset''s Number of training samples: ', len(Y_train_10))\n",
    "# print('1. Radar''s Number of validation samples: ', len(X_valid_orig))\n",
    "print('1. Dataset''s Number of test samples: ', len(Y_test_10))\n",
    "\n",
    "X_train_24 = np.array(data_24[\"train_img\"])\n",
    "Y_train_24 = np.array(data_24[\"train_labels\"])\n",
    "# X_valid_orig2 = np.array(validset2[\"valid_img\"])\n",
    "# Y_valid_orig2 = np.array(validset2[\"valid_labels\"])\n",
    "X_test_24 = np.array(data_24[\"test_img\"])\n",
    "Y_test_24 = np.array(data_24[\"test_labels\"])\n",
    "print('2. Dataset''s Number of training samples: ', len(X_train_24))\n",
    "# print('2. Radar''s Number of validation samples: ', len(X_valid_orig2))\n",
    "print('2. Dataset''s Number of test samples: ', len(X_test_24))\n",
    "\n",
    "X_train_77 = np.array(data_77[\"train_img\"])\n",
    "Y_train_77 = np.array(data_77[\"train_labels\"])\n",
    "# X_valid_orig3 = np.array(validset3[\"valid_img\"])\n",
    "# Y_valid_orig3 = np.array(validset3[\"valid_labels\"])\n",
    "X_test_77 = np.array(data_77[\"test_img\"])\n",
    "Y_test_77 = np.array(data_77[\"test_labels\"])\n",
    "print('3. Dataset''s Number of training samples: ', len(X_train_77))\n",
    "# print('3. Radar''s Number of validation samples: ', len(X_valid_orig3))\n",
    "print('3. Dataset''s Number of test samples: ', len(X_test_77))\n",
    "\n",
    "\n",
    "X_train_tobb = np.array(data_tobb[\"train_img\"])\n",
    "Y_train_tobb = np.array(data_tobb[\"train_labels\"])\n",
    "# X_valid_orig3 = np.array(validset3[\"valid_img\"])\n",
    "# Y_valid_orig3 = np.array(validset3[\"valid_labels\"])\n",
    "X_test_tobb = np.array(data_tobb[\"test_img\"])\n",
    "Y_test_tobb = np.array(data_tobb[\"test_labels\"])\n",
    "print('4. Dataset''s Number of training samples: ', len(X_train_tobb))\n",
    "# print('4. Radar''s Number of validation samples: ', len(X_valid_orig4))\n",
    "print('4. Dataset''s Number of test samples: ', len(X_test_tobb))\n",
    "\n",
    "\n",
    "\n",
    "data_10.close()\n",
    "data_24.close()\n",
    "data_77.close()\n",
    "data_tobb.close()"
   ]
  },
  {
   "cell_type": "code",
   "execution_count": 5,
   "metadata": {},
   "outputs": [
    {
     "name": "stdout",
     "output_type": "stream",
     "text": [
      "y = 5\n"
     ]
    },
    {
     "data": {
      "image/png": "[encoded data removed]",
      "text/plain": [
       "<Figure size 432x288 with 1 Axes>"
      ]
     },
     "metadata": {
      "needs_background": "light"
     },
     "output_type": "display_data"
    }
   ],
   "source": [
    "# Example of a spectrogram\n",
    "index = 7\n",
    "plt.imshow(X_train_77[index])\n",
    "print (\"y = \" + str(np.squeeze(Y_train_77[index])))"
   ]
  },
  {
   "cell_type": "markdown",
   "metadata": {},
   "source": [
    "## Examine the shapes of data"
   ]
  },
  {
   "cell_type": "code",
   "execution_count": 6,
   "metadata": {},
   "outputs": [
    {
     "name": "stdout",
     "output_type": "stream",
     "text": [
      "X_train_10 shape: (521, 64, 64, 3)\n",
      "Y_train_10 shape: (521, 11)\n",
      "X_test_10 shape: (224, 64, 64, 3)\n",
      "Y_test_10 shape: (224, 11)\n",
      "\n",
      "\n",
      "X_train_24 shape: (1483, 64, 64, 3)\n",
      "Y_train_24 shape: (1483, 11)\n",
      "X_test_24 shape: (636, 64, 64, 3)\n",
      "Y_test_24 shape: (636, 11)\n",
      "\n",
      "\n",
      "X_train_77 shape: (458, 64, 64, 3)\n",
      "Y_train_77 shape: (458, 11)\n",
      "X_test_77 shape: (197, 64, 64, 3)\n",
      "Y_test_77 shape: (197, 11)\n",
      "\n",
      "\n",
      "X_train_tobb shape: (564, 64, 64, 3)\n",
      "Y_train_tobb shape: (564, 11)\n",
      "X_test_tobb shape: (243, 64, 64, 3)\n",
      "Y_test_tobb shape: (243, 11)\n",
      "\n",
      "\n"
     ]
    }
   ],
   "source": [
    "x_train_10 = X_train_10/255.\n",
    "# X_valid = X_valid_orig/255.\n",
    "x_test_10 = X_test_10/255.\n",
    "y_train_10 = convert_to_one_hot(Y_train_10, num_class).T\n",
    "# Y_valid = convert_to_one_hot(Y_valid_orig, num_class).T\n",
    "y_test_10 = convert_to_one_hot(Y_test_10, num_class).T\n",
    "print (\"X_train_10 shape: \" + str(x_train_10.shape))\n",
    "print (\"Y_train_10 shape: \" + str(y_train_10.shape))\n",
    "# print (\"X_valid shape: \" + str(X_valid.shape))\n",
    "# print (\"Y_valid shape: \" + str(Y_valid.shape))\n",
    "print (\"X_test_10 shape: \" + str(x_test_10.shape))\n",
    "print (\"Y_test_10 shape: \" + str(y_test_10.shape)+\"\\n\\n\")\n",
    "\n",
    "x_train_24 = X_train_24/255.\n",
    "# X_valid = X_valid_orig/255.\n",
    "x_test_24 = X_test_24/255.\n",
    "y_train_24 = convert_to_one_hot(Y_train_24, num_class).T\n",
    "# Y_valid = convert_to_one_hot(Y_valid_orig, num_class).T\n",
    "y_test_24 = convert_to_one_hot(Y_test_24, num_class).T\n",
    "print (\"X_train_24 shape: \" + str(x_train_24.shape))\n",
    "print (\"Y_train_24 shape: \" + str(y_train_24.shape))\n",
    "# print (\"X_valid shape: \" + str(X_valid.shape))\n",
    "# print (\"Y_valid shape: \" + str(Y_valid.shape))\n",
    "print (\"X_test_24 shape: \" + str(x_test_24.shape))\n",
    "print (\"Y_test_24 shape: \" + str(y_test_24.shape)+\"\\n\\n\")\n",
    "\n",
    "x_train_77 = X_train_77/255.\n",
    "# X_valid = X_valid_orig/255.\n",
    "x_test_77 = X_test_77/255.\n",
    "y_train_77 = convert_to_one_hot(Y_train_77, num_class).T\n",
    "# Y_valid = convert_to_one_hot(Y_valid_orig, num_class).T\n",
    "y_test_77 = convert_to_one_hot(Y_test_77, num_class).T\n",
    "print (\"X_train_77 shape: \" + str(x_train_77.shape))\n",
    "print (\"Y_train_77 shape: \" + str(y_train_77.shape))\n",
    "# print (\"X_valid shape: \" + str(X_valid.shape))\n",
    "# print (\"Y_valid shape: \" + str(Y_valid.shape))\n",
    "print (\"X_test_77 shape: \" + str(x_test_77.shape))\n",
    "print (\"Y_test_77 shape: \" + str(y_test_77.shape)+\"\\n\\n\")\n",
    "\n",
    "\n",
    "x_train_tobb = X_train_tobb/255.\n",
    "# X_valid = X_valid_orig/255.\n",
    "x_test_tobb = X_test_tobb/255.\n",
    "y_train_tobb = convert_to_one_hot(Y_train_tobb, num_class).T\n",
    "# Y_valid = convert_to_one_hot(Y_valid_orig, num_class).T\n",
    "y_test_tobb = convert_to_one_hot(Y_test_tobb, num_class).T\n",
    "print (\"X_train_tobb shape: \" + str(x_train_tobb.shape))\n",
    "print (\"Y_train_tobb shape: \" + str(y_train_tobb.shape))\n",
    "# print (\"X_valid shape: \" + str(X_valid.shape))\n",
    "# print (\"Y_valid shape: \" + str(Y_valid.shape))\n",
    "print (\"X_test_tobb shape: \" + str(x_test_tobb.shape))\n",
    "print (\"Y_test_tobb shape: \" + str(y_test_tobb.shape)+\"\\n\\n\")"
   ]
  },
  {
   "cell_type": "markdown",
   "metadata": {},
   "source": [
    "# Select Dataset"
   ]
  },
  {
   "cell_type": "code",
   "execution_count": 7,
   "metadata": {},
   "outputs": [],
   "source": [
    "# set flag: '1' for 77ghz, '2' for 24ghz, '3' for 10ghz\n",
    "def train_data(flag):\n",
    "    if flag==0:\n",
    "        X_train = x_train_10\n",
    "        Y_train = y_train_10\n",
    "    elif flag==1:\n",
    "        X_train = x_train_24\n",
    "        Y_train = y_train_24\n",
    "    elif flag==2:\n",
    "        X_train = x_train_77\n",
    "        Y_train = y_train_77\n",
    "    elif flag==3: \n",
    "        X_train = x_train_tobb\n",
    "        Y_train = y_train_tobb\n",
    "    return X_train, Y_train\n",
    "def test_data(flag):\n",
    "    if flag==0:\n",
    "        X_test = x_test_10\n",
    "        Y_test = y_test_10\n",
    "    elif flag==1:\n",
    "        X_test = x_test_24\n",
    "        Y_test = y_test_24\n",
    "    elif flag==2:\n",
    "        X_test = x_test_77\n",
    "        Y_test = y_test_77\n",
    "    elif flag==3: \n",
    "        X_test = x_test_tobb\n",
    "        Y_test = y_test_tobb\n",
    "    return X_test, Y_test\n",
    "    "
   ]
  },
  {
   "cell_type": "markdown",
   "metadata": {},
   "source": [
    "## Define function to plot model accuracy"
   ]
  },
  {
   "cell_type": "code",
   "execution_count": 8,
   "metadata": {},
   "outputs": [],
   "source": [
    "def plot_fig(i, history):\n",
    "    fig = plt.figure()\n",
    "    plt.plot(range(1,EPOCHS+1),history.history['accuracy'],label='Training')\n",
    "    plt.plot(range(1,EPOCHS+1),history.history['val_accuracy'],label='Validation')\n",
    "    plt.legend(loc=0)\n",
    "    plt.xlabel('Epochs')\n",
    "    plt.ylabel('Accuracy')\n",
    "    plt.xlim([1,EPOCHS])\n",
    "    plt.grid(True)\n",
    "    plt.title(\"Model Accuracy\")\n",
    "    plt.show()\n",
    "    fig.savefig('results/Model'+str(i)+'_'+str(radar)+'GHz'+'_Batchsize'+str(BATCH_SIZE)+'_learning'+str(lr)+'_dropout'+str(drop)+'-acc.png')\n",
    "    plt.close(fig)\n",
    "    # summarize history for loss\n",
    "    fig2 = plt.figure()\n",
    "    plt.plot(range(1,EPOCHS+1),history.history['loss'],label='Training')\n",
    "    plt.plot(range(1,EPOCHS+1),history.history['val_loss'],label='Validation')\n",
    "    plt.legend(loc=0)\n",
    "    plt.title('Model Loss')\n",
    "    plt.ylabel('Loss')\n",
    "    plt.xlabel('Epoch')\n",
    "    plt.xlim([1,EPOCHS])\n",
    "    plt.grid(True)\n",
    "    plt.legend(['Train', 'Validation'], loc='upper left')\n",
    "    plt.show()\n",
    "    fig2.savefig('results/Model'+str(i)+'_'+str(radar)+'GHz'+'_Batchsize'+str(BATCH_SIZE)+'_learning'+str(lr)+'_dropout'+str(drop)+'-loss.png')\n",
    "    plt.close(fig2)"
   ]
  },
  {
   "cell_type": "markdown",
   "metadata": {},
   "source": [
    "# Model"
   ]
  },
  {
   "cell_type": "code",
   "execution_count": 9,
   "metadata": {},
   "outputs": [],
   "source": [
    "def encoder77(input_img):\n",
    "    #encoder\n",
    "    #input = 128 x 128 x 3 (wide and thin) 128x128x3\n",
    "    conv01 = Conv2D(8, (3, 3), activation='relu', padding='same')(input_img) # 128x128x8\n",
    "    conv02 = Conv2D(8, (9, 9), activation='relu', padding='same')(input_img)\n",
    "    out01  = concatenate([conv01,conv02],axis=-1)\n",
    "    pool01 = MaxPooling2D(pool_size=(2, 2))(out01) #14 x 14 x 32, 64x64x8\n",
    "    \n",
    "    conv1 = Conv2D(16, (3, 3), activation='relu', padding='same')(pool01) # 128x128x8\n",
    "    conv2 = Conv2D(16, (7, 7), activation='relu', padding='same')(pool01)\n",
    "    out1  = concatenate([conv1,conv2],axis=-1)\n",
    "    pool1 = MaxPooling2D(pool_size=(2, 2))(out1) #14 x 14 x 32, 64x64x8\n",
    "    \n",
    "    conv3 = Conv2D(32, (3, 3), activation='relu', padding='same')(pool1) # 64x64x16\n",
    "    conv4 = Conv2D(32, (5, 5), activation='relu', padding='same')(pool1)\n",
    "    out2  = concatenate([conv3,conv4],axis=-1)\n",
    "    pool2 = MaxPooling2D(pool_size=(2, 2))(out2) # 16x16x16\n",
    "\n",
    "    return pool2"
   ]
  },
  {
   "cell_type": "code",
   "execution_count": 10,
   "metadata": {
    "scrolled": true
   },
   "outputs": [],
   "source": [
    "def cnn_model(learn_rate=0.001,dense_size=150,drop=0.5,num_class=11):\n",
    "    \"\"\"\n",
    "    model = Sequential()\n",
    "\n",
    "    model.add(Conv2D(32, 3, 3, border_mode='same', input_shape=input_shape, activation='relu'))\n",
    "    model.add(Conv2D(32, 3, 3, border_mode='same', activation='relu'))\n",
    "    model.add(MaxPooling2D(pool_size=(2, 2)))\n",
    "\n",
    "    model.add(Conv2D(64, 3, 3, border_mode='same', activation='relu'))\n",
    "    model.add(Conv2D(64, 3, 3, border_mode='same', activation='relu'))\n",
    "    model.add(MaxPooling2D(pool_size=(2, 2)))\n",
    "\n",
    "    model.add(Conv2D(128, 3, 3, border_mode='same', activation='relu'))\n",
    "    model.add(Conv2D(128, 3, 3, border_mode='same', activation='relu'))\n",
    "    model.add(MaxPooling2D(pool_size=(2, 2)))\n",
    "\n",
    "    model.add(Conv2D(256, 3, 3, border_mode='same', activation='relu'))\n",
    "    model.add(Conv2D(256, 3, 3, border_mode='same', activation='relu'))\n",
    "    model.add(MaxPooling2D(pool_size=(2, 2)))\n",
    "\n",
    "    model.add(Flatten())\n",
    "    model.add(Dense(256, activation='relu'))\n",
    "    model.add(Dropout(0.5))\n",
    "\n",
    "    model.add(Dense(256, activation='relu'))\n",
    "    model.add(Dropout(0.5))\n",
    "\n",
    "    model.add(Dense(11))\n",
    "    model.add(Activation('softmax'))\n",
    "\n",
    "    model.compile(loss='categorical_crossentropy',\n",
    "                optimizer=Adam(lr=0.00005),\n",
    "                metrics=['accuracy'])\n",
    "    \"\"\"\n",
    "    model = Sequential()\n",
    "#     first = Sequential()\n",
    "#     second = Sequential()\n",
    "    model.add(Model(input_img, encoder77(input_img)))\n",
    "#     model.add(Conv2D(8, (3, 3), border_mode='same', activation='relu'))\n",
    "#     model.add(Conv2D(8, (9, 9), border_mode='same', activation='relu'))\n",
    "#     model.add(concatenate(axis=-1))\n",
    "#     model.add(MaxPooling2D(pool_size=(2, 2)))\n",
    "\n",
    "#     model.add(Conv2D(16, 3, 3, border_mode='same', activation='relu'))\n",
    "#     model.add(Conv2D(16, 7, 7, border_mode='same', activation='relu'))\n",
    "#     model.add(concatenate(axis=-1))\n",
    "#     model.add(MaxPooling2D(pool_size=(2, 2)))\n",
    "\n",
    "#     model.add(Conv2D(32, 3, 3, border_mode='same', activation='relu'))\n",
    "#     model.add(Conv2D(32, 5, 5, border_mode='same', activation='relu'))\n",
    "#     model.add(concatenate(axis=-1))\n",
    "#     model.add(MaxPooling2D(pool_size=(2, 2))) #4,4\n",
    "    \n",
    "    model.add(Flatten())\n",
    "    model.add(Dense(dense_size, activation='relu'))\n",
    "    model.add(Dropout(drop))\n",
    "\n",
    "    model.add(Dense(dense_size, activation='relu'))\n",
    "    model.add(Dropout(drop))\n",
    "    \n",
    "    optim = Adam(lr=learn_rate, decay=1e-06) # decay rate = 5e-06 for xethru\n",
    "    \n",
    "    model.add(Dense(num_class))\n",
    "    model.add(Activation('softmax'))\n",
    "    model.compile(loss='categorical_crossentropy', optimizer=optim, metrics=['accuracy']) # categorical_crossentropy\n",
    "    \n",
    "    return(model)\n"
   ]
  },
  {
   "cell_type": "code",
   "execution_count": 11,
   "metadata": {},
   "outputs": [
    {
     "name": "stdout",
     "output_type": "stream",
     "text": [
      "Model: \"sequential_1\"\n",
      "_________________________________________________________________\n",
      "Layer (type)                 Output Shape              Param #   \n",
      "=================================================================\n",
      "model_1 (Model)              (None, 8, 8, 64)          51936     \n",
      "_________________________________________________________________\n",
      "flatten_1 (Flatten)          (None, 4096)              0         \n",
      "_________________________________________________________________\n",
      "dense_1 (Dense)              (None, 150)               614550    \n",
      "_________________________________________________________________\n",
      "dropout_1 (Dropout)          (None, 150)               0         \n",
      "_________________________________________________________________\n",
      "dense_2 (Dense)              (None, 150)               22650     \n",
      "_________________________________________________________________\n",
      "dropout_2 (Dropout)          (None, 150)               0         \n",
      "_________________________________________________________________\n",
      "dense_3 (Dense)              (None, 11)                1661      \n",
      "_________________________________________________________________\n",
      "activation_1 (Activation)    (None, 11)                0         \n",
      "=================================================================\n",
      "Total params: 690,797\n",
      "Trainable params: 690,797\n",
      "Non-trainable params: 0\n",
      "_________________________________________________________________\n"
     ]
    }
   ],
   "source": [
    "# define CNN model\n",
    "drop = 0.5\n",
    "lr = 0.001\n",
    "\n",
    "model = cnn_model()\n",
    "\n",
    "# define optimiz75\n",
    "\n",
    "\n",
    "train_flag = 2 # set flag: '0' for 10ghz, '1' for 24ghz, '2' for 77ghz, '3' for tobb\n",
    "test_flag = 2 # set flag: '0' for 10ghz, '1' for 24ghz, '2' for 77ghz, '3' for tobb\n",
    "\n",
    "[X_train, Y_train] = train_data(train_flag) \n",
    "[X_test, Y_test] = test_data(test_flag)\n",
    "model.summary()"
   ]
  },
  {
   "cell_type": "markdown",
   "metadata": {},
   "source": [
    "# Grid Search"
   ]
  },
  {
   "cell_type": "code",
   "execution_count": 24,
   "metadata": {
    "scrolled": false
   },
   "outputs": [
    {
     "name": "stdout",
     "output_type": "stream",
     "text": [
      "Params: epochs= 100, batch_size= 8, dense_size= 100, learn_rate= 0.001, Accuracy=0.8020304441452026\n",
      "Params: epochs= 100, batch_size= 8, dense_size= 100, learn_rate= 0.0005, Accuracy=0.7817258834838867\n",
      "Params: epochs= 100, batch_size= 8, dense_size= 100, learn_rate= 0.0001, Accuracy=0.807106614112854\n",
      "Params: epochs= 100, batch_size= 8, dense_size= 100, learn_rate= 0.0002, Accuracy=0.8426395654678345\n",
      "Params: epochs= 100, batch_size= 8, dense_size= 150, learn_rate= 0.001, Accuracy=0.8527919054031372\n",
      "Params: epochs= 100, batch_size= 8, dense_size= 150, learn_rate= 0.0005, Accuracy=0.8426395654678345\n",
      "Params: epochs= 100, batch_size= 8, dense_size= 150, learn_rate= 0.0001, Accuracy=0.8223350048065186\n",
      "Params: epochs= 100, batch_size= 8, dense_size= 150, learn_rate= 0.0002, Accuracy=0.8020304441452026\n",
      "Params: epochs= 100, batch_size= 8, dense_size= 256, learn_rate= 0.001, Accuracy=0.8020304441452026\n",
      "Params: epochs= 100, batch_size= 8, dense_size= 256, learn_rate= 0.0005, Accuracy=0.817258894443512\n",
      "Params: epochs= 100, batch_size= 8, dense_size= 256, learn_rate= 0.0001, Accuracy=0.807106614112854\n",
      "Params: epochs= 100, batch_size= 8, dense_size= 256, learn_rate= 0.0002, Accuracy=0.8274111747741699\n",
      "Params: epochs= 100, batch_size= 16, dense_size= 100, learn_rate= 0.001, Accuracy=0.8121827244758606\n",
      "Params: epochs= 100, batch_size= 16, dense_size= 100, learn_rate= 0.0005, Accuracy=0.8274111747741699\n",
      "Params: epochs= 100, batch_size= 16, dense_size= 100, learn_rate= 0.0001, Accuracy=0.7461928725242615\n",
      "Params: epochs= 100, batch_size= 16, dense_size= 100, learn_rate= 0.0002, Accuracy=0.8223350048065186\n",
      "Params: epochs= 100, batch_size= 16, dense_size= 150, learn_rate= 0.001, Accuracy=0.796954333782196\n",
      "Params: epochs= 100, batch_size= 16, dense_size= 150, learn_rate= 0.0005, Accuracy=0.8223350048065186\n",
      "Params: epochs= 100, batch_size= 16, dense_size= 150, learn_rate= 0.0001, Accuracy=0.807106614112854\n",
      "Params: epochs= 100, batch_size= 16, dense_size= 150, learn_rate= 0.0002, Accuracy=0.817258894443512\n",
      "Params: epochs= 100, batch_size= 16, dense_size= 256, learn_rate= 0.001, Accuracy=0.7868020534515381\n",
      "Params: epochs= 100, batch_size= 16, dense_size= 256, learn_rate= 0.0005, Accuracy=0.8375634551048279\n",
      "Params: epochs= 100, batch_size= 16, dense_size= 256, learn_rate= 0.0001, Accuracy=0.8121827244758606\n",
      "Params: epochs= 100, batch_size= 16, dense_size= 256, learn_rate= 0.0002, Accuracy=0.8477157354354858\n",
      "Params: epochs= 100, batch_size= 32, dense_size= 100, learn_rate= 0.001, Accuracy=0.8375634551048279\n",
      "Params: epochs= 100, batch_size= 32, dense_size= 100, learn_rate= 0.0005, Accuracy=0.8020304441452026\n",
      "Params: epochs= 100, batch_size= 32, dense_size= 100, learn_rate= 0.0001, Accuracy=0.7360405921936035\n",
      "Params: epochs= 100, batch_size= 32, dense_size= 100, learn_rate= 0.0002, Accuracy=0.796954333782196\n",
      "Params: epochs= 100, batch_size= 32, dense_size= 150, learn_rate= 0.001, Accuracy=0.8223350048065186\n",
      "Params: epochs= 100, batch_size= 32, dense_size= 150, learn_rate= 0.0005, Accuracy=0.8274111747741699\n",
      "Params: epochs= 100, batch_size= 32, dense_size= 150, learn_rate= 0.0001, Accuracy=0.7411167621612549\n",
      "Params: epochs= 100, batch_size= 32, dense_size= 150, learn_rate= 0.0002, Accuracy=0.817258894443512\n",
      "Params: epochs= 100, batch_size= 32, dense_size= 256, learn_rate= 0.001, Accuracy=0.817258894443512\n",
      "Params: epochs= 100, batch_size= 32, dense_size= 256, learn_rate= 0.0005, Accuracy=0.8223350048065186\n",
      "Params: epochs= 100, batch_size= 32, dense_size= 256, learn_rate= 0.0001, Accuracy=0.8020304441452026\n",
      "Params: epochs= 100, batch_size= 32, dense_size= 256, learn_rate= 0.0002, Accuracy=0.7918781638145447\n",
      "Params: epochs= 100, batch_size= 64, dense_size= 100, learn_rate= 0.001, Accuracy=0.807106614112854\n",
      "Params: epochs= 100, batch_size= 64, dense_size= 100, learn_rate= 0.0005, Accuracy=0.817258894443512\n",
      "Params: epochs= 100, batch_size= 64, dense_size= 100, learn_rate= 0.0001, Accuracy=0.6852791905403137\n",
      "Params: epochs= 100, batch_size= 64, dense_size= 100, learn_rate= 0.0002, Accuracy=0.7715736031532288\n",
      "Params: epochs= 100, batch_size= 64, dense_size= 150, learn_rate= 0.001, Accuracy=0.8375634551048279\n",
      "Params: epochs= 100, batch_size= 64, dense_size= 150, learn_rate= 0.0005, Accuracy=0.8223350048065186\n",
      "Params: epochs= 100, batch_size= 64, dense_size= 150, learn_rate= 0.0001, Accuracy=0.7411167621612549\n",
      "Params: epochs= 100, batch_size= 64, dense_size= 150, learn_rate= 0.0002, Accuracy=0.7614213228225708\n",
      "Params: epochs= 100, batch_size= 64, dense_size= 256, learn_rate= 0.001, Accuracy=0.817258894443512\n",
      "Params: epochs= 100, batch_size= 64, dense_size= 256, learn_rate= 0.0005, Accuracy=0.8223350048065186\n",
      "Params: epochs= 100, batch_size= 64, dense_size= 256, learn_rate= 0.0001, Accuracy=0.7664974331855774\n",
      "Params: epochs= 100, batch_size= 64, dense_size= 256, learn_rate= 0.0002, Accuracy=0.807106614112854\n",
      "Params: epochs= 150, batch_size= 8, dense_size= 100, learn_rate= 0.001, Accuracy=0.8375634551048279\n",
      "Params: epochs= 150, batch_size= 8, dense_size= 100, learn_rate= 0.0005, Accuracy=0.8274111747741699\n",
      "Params: epochs= 150, batch_size= 8, dense_size= 100, learn_rate= 0.0001, Accuracy=0.8324872851371765\n",
      "Params: epochs= 150, batch_size= 8, dense_size= 100, learn_rate= 0.0002, Accuracy=0.8274111747741699\n",
      "Params: epochs= 150, batch_size= 8, dense_size= 150, learn_rate= 0.001, Accuracy=0.796954333782196\n",
      "Params: epochs= 150, batch_size= 8, dense_size= 150, learn_rate= 0.0005, Accuracy=0.8426395654678345\n",
      "Params: epochs= 150, batch_size= 8, dense_size= 150, learn_rate= 0.0001, Accuracy=0.807106614112854\n",
      "Params: epochs= 150, batch_size= 8, dense_size= 150, learn_rate= 0.0002, Accuracy=0.8578680157661438\n",
      "Params: epochs= 150, batch_size= 8, dense_size= 256, learn_rate= 0.001, Accuracy=0.7715736031532288\n",
      "Params: epochs= 150, batch_size= 8, dense_size= 256, learn_rate= 0.0005, Accuracy=0.7918781638145447\n",
      "Params: epochs= 150, batch_size= 8, dense_size= 256, learn_rate= 0.0001, Accuracy=0.8324872851371765\n",
      "Params: epochs= 150, batch_size= 8, dense_size= 256, learn_rate= 0.0002, Accuracy=0.8223350048065186\n",
      "Params: epochs= 150, batch_size= 16, dense_size= 100, learn_rate= 0.001, Accuracy=0.796954333782196\n",
      "Params: epochs= 150, batch_size= 16, dense_size= 100, learn_rate= 0.0005, Accuracy=0.8477157354354858\n",
      "Params: epochs= 150, batch_size= 16, dense_size= 100, learn_rate= 0.0001, Accuracy=0.807106614112854\n",
      "Params: epochs= 150, batch_size= 16, dense_size= 100, learn_rate= 0.0002, Accuracy=0.8477157354354858\n",
      "Params: epochs= 150, batch_size= 16, dense_size= 150, learn_rate= 0.001, Accuracy=0.8324872851371765\n",
      "Params: epochs= 150, batch_size= 16, dense_size= 150, learn_rate= 0.0005, Accuracy=0.8477157354354858\n",
      "Params: epochs= 150, batch_size= 16, dense_size= 150, learn_rate= 0.0001, Accuracy=0.8223350048065186\n",
      "Params: epochs= 150, batch_size= 16, dense_size= 150, learn_rate= 0.0002, Accuracy=0.796954333782196\n",
      "Params: epochs= 150, batch_size= 16, dense_size= 256, learn_rate= 0.001, Accuracy=0.8020304441452026\n",
      "Params: epochs= 150, batch_size= 16, dense_size= 256, learn_rate= 0.0005, Accuracy=0.8426395654678345\n",
      "Params: epochs= 150, batch_size= 16, dense_size= 256, learn_rate= 0.0001, Accuracy=0.8121827244758606\n",
      "Params: epochs= 150, batch_size= 16, dense_size= 256, learn_rate= 0.0002, Accuracy=0.8426395654678345\n",
      "Params: epochs= 150, batch_size= 32, dense_size= 100, learn_rate= 0.001, Accuracy=0.8020304441452026\n",
      "Params: epochs= 150, batch_size= 32, dense_size= 100, learn_rate= 0.0005, Accuracy=0.8324872851371765\n",
      "Params: epochs= 150, batch_size= 32, dense_size= 100, learn_rate= 0.0001, Accuracy=0.7868020534515381\n",
      "Params: epochs= 150, batch_size= 32, dense_size= 100, learn_rate= 0.0002, Accuracy=0.8020304441452026\n",
      "Params: epochs= 150, batch_size= 32, dense_size= 150, learn_rate= 0.001, Accuracy=0.8223350048065186\n",
      "Params: epochs= 150, batch_size= 32, dense_size= 150, learn_rate= 0.0005, Accuracy=0.8324872851371765\n",
      "Params: epochs= 150, batch_size= 32, dense_size= 150, learn_rate= 0.0001, Accuracy=0.796954333782196\n",
      "Params: epochs= 150, batch_size= 32, dense_size= 150, learn_rate= 0.0002, Accuracy=0.796954333782196\n",
      "Params: epochs= 150, batch_size= 32, dense_size= 256, learn_rate= 0.001, Accuracy=0.8324872851371765\n"
     ]
    },
    {
     "name": "stdout",
     "output_type": "stream",
     "text": [
      "Params: epochs= 150, batch_size= 32, dense_size= 256, learn_rate= 0.0005, Accuracy=0.796954333782196\n",
      "Params: epochs= 150, batch_size= 32, dense_size= 256, learn_rate= 0.0001, Accuracy=0.817258894443512\n",
      "Params: epochs= 150, batch_size= 32, dense_size= 256, learn_rate= 0.0002, Accuracy=0.817258894443512\n",
      "Params: epochs= 150, batch_size= 64, dense_size= 100, learn_rate= 0.001, Accuracy=0.8324872851371765\n",
      "Params: epochs= 150, batch_size= 64, dense_size= 100, learn_rate= 0.0005, Accuracy=0.817258894443512\n",
      "Params: epochs= 150, batch_size= 64, dense_size= 100, learn_rate= 0.0001, Accuracy=0.7309644818305969\n",
      "Params: epochs= 150, batch_size= 64, dense_size= 100, learn_rate= 0.0002, Accuracy=0.7715736031532288\n",
      "Params: epochs= 150, batch_size= 64, dense_size= 150, learn_rate= 0.001, Accuracy=0.8223350048065186\n",
      "Params: epochs= 150, batch_size= 64, dense_size= 150, learn_rate= 0.0005, Accuracy=0.807106614112854\n",
      "Params: epochs= 150, batch_size= 64, dense_size= 150, learn_rate= 0.0001, Accuracy=0.7715736031532288\n",
      "Params: epochs= 150, batch_size= 64, dense_size= 150, learn_rate= 0.0002, Accuracy=0.8223350048065186\n",
      "Params: epochs= 150, batch_size= 64, dense_size= 256, learn_rate= 0.001, Accuracy=0.8477157354354858\n",
      "Params: epochs= 150, batch_size= 64, dense_size= 256, learn_rate= 0.0005, Accuracy=0.8121827244758606\n",
      "Params: epochs= 150, batch_size= 64, dense_size= 256, learn_rate= 0.0001, Accuracy=0.8020304441452026\n",
      "Params: epochs= 150, batch_size= 64, dense_size= 256, learn_rate= 0.0002, Accuracy=0.8527919054031372\n",
      "Params: epochs= 200, batch_size= 8, dense_size= 100, learn_rate= 0.001, Accuracy=0.8426395654678345\n",
      "Params: epochs= 200, batch_size= 8, dense_size= 100, learn_rate= 0.0005, Accuracy=0.8477157354354858\n",
      "Params: epochs= 200, batch_size= 8, dense_size= 100, learn_rate= 0.0001, Accuracy=0.817258894443512\n",
      "Params: epochs= 200, batch_size= 8, dense_size= 100, learn_rate= 0.0002, Accuracy=0.8324872851371765\n",
      "Params: epochs= 200, batch_size= 8, dense_size= 150, learn_rate= 0.001, Accuracy=0.8324872851371765\n",
      "Params: epochs= 200, batch_size= 8, dense_size= 150, learn_rate= 0.0005, Accuracy=0.8121827244758606\n",
      "Params: epochs= 200, batch_size= 8, dense_size= 150, learn_rate= 0.0001, Accuracy=0.8274111747741699\n",
      "Params: epochs= 200, batch_size= 8, dense_size= 150, learn_rate= 0.0002, Accuracy=0.817258894443512\n",
      "Params: epochs= 200, batch_size= 8, dense_size= 256, learn_rate= 0.001, Accuracy=0.8324872851371765\n",
      "Params: epochs= 200, batch_size= 8, dense_size= 256, learn_rate= 0.0005, Accuracy=0.8274111747741699\n",
      "Params: epochs= 200, batch_size= 8, dense_size= 256, learn_rate= 0.0001, Accuracy=0.8375634551048279\n",
      "Params: epochs= 200, batch_size= 8, dense_size= 256, learn_rate= 0.0002, Accuracy=0.817258894443512\n",
      "Params: epochs= 200, batch_size= 16, dense_size= 100, learn_rate= 0.001, Accuracy=0.796954333782196\n",
      "Params: epochs= 200, batch_size= 16, dense_size= 100, learn_rate= 0.0005, Accuracy=0.8121827244758606\n",
      "Params: epochs= 200, batch_size= 16, dense_size= 100, learn_rate= 0.0001, Accuracy=0.8223350048065186\n",
      "Params: epochs= 200, batch_size= 16, dense_size= 100, learn_rate= 0.0002, Accuracy=0.8324872851371765\n",
      "Params: epochs= 200, batch_size= 16, dense_size= 150, learn_rate= 0.001, Accuracy=0.796954333782196\n",
      "Params: epochs= 200, batch_size= 16, dense_size= 150, learn_rate= 0.0005, Accuracy=0.8274111747741699\n",
      "Params: epochs= 200, batch_size= 16, dense_size= 150, learn_rate= 0.0001, Accuracy=0.8477157354354858\n",
      "Params: epochs= 200, batch_size= 16, dense_size= 150, learn_rate= 0.0002, Accuracy=0.8223350048065186\n",
      "Params: epochs= 200, batch_size= 16, dense_size= 256, learn_rate= 0.001, Accuracy=0.7868020534515381\n",
      "Params: epochs= 200, batch_size= 16, dense_size= 256, learn_rate= 0.0005, Accuracy=0.8375634551048279\n",
      "Params: epochs= 200, batch_size= 16, dense_size= 256, learn_rate= 0.0001, Accuracy=0.8274111747741699\n",
      "Params: epochs= 200, batch_size= 16, dense_size= 256, learn_rate= 0.0002, Accuracy=0.8527919054031372\n",
      "Params: epochs= 200, batch_size= 32, dense_size= 100, learn_rate= 0.001, Accuracy=0.8274111747741699\n",
      "Params: epochs= 200, batch_size= 32, dense_size= 100, learn_rate= 0.0005, Accuracy=0.8375634551048279\n",
      "Params: epochs= 200, batch_size= 32, dense_size= 100, learn_rate= 0.0001, Accuracy=0.796954333782196\n",
      "Params: epochs= 200, batch_size= 32, dense_size= 100, learn_rate= 0.0002, Accuracy=0.8426395654678345\n",
      "Params: epochs= 200, batch_size= 32, dense_size= 150, learn_rate= 0.001, Accuracy=0.8426395654678345\n",
      "Params: epochs= 200, batch_size= 32, dense_size= 150, learn_rate= 0.0005, Accuracy=0.8121827244758606\n",
      "Params: epochs= 200, batch_size= 32, dense_size= 150, learn_rate= 0.0001, Accuracy=0.817258894443512\n",
      "Params: epochs= 200, batch_size= 32, dense_size= 150, learn_rate= 0.0002, Accuracy=0.8223350048065186\n",
      "Params: epochs= 200, batch_size= 32, dense_size= 256, learn_rate= 0.001, Accuracy=0.8781725764274597\n",
      "Params: epochs= 200, batch_size= 32, dense_size= 256, learn_rate= 0.0005, Accuracy=0.8527919054031372\n",
      "Params: epochs= 200, batch_size= 32, dense_size= 256, learn_rate= 0.0001, Accuracy=0.8121827244758606\n",
      "Params: epochs= 200, batch_size= 32, dense_size= 256, learn_rate= 0.0002, Accuracy=0.8426395654678345\n",
      "Params: epochs= 200, batch_size= 64, dense_size= 100, learn_rate= 0.001, Accuracy=0.8274111747741699\n",
      "Params: epochs= 200, batch_size= 64, dense_size= 100, learn_rate= 0.0005, Accuracy=0.8426395654678345\n",
      "Params: epochs= 200, batch_size= 64, dense_size= 100, learn_rate= 0.0001, Accuracy=0.7817258834838867\n",
      "Params: epochs= 200, batch_size= 64, dense_size= 100, learn_rate= 0.0002, Accuracy=0.817258894443512\n",
      "Params: epochs= 200, batch_size= 64, dense_size= 150, learn_rate= 0.001, Accuracy=0.807106614112854\n",
      "Params: epochs= 200, batch_size= 64, dense_size= 150, learn_rate= 0.0005, Accuracy=0.8527919054031372\n",
      "Params: epochs= 200, batch_size= 64, dense_size= 150, learn_rate= 0.0001, Accuracy=0.7766497731208801\n",
      "Params: epochs= 200, batch_size= 64, dense_size= 150, learn_rate= 0.0002, Accuracy=0.8121827244758606\n",
      "Params: epochs= 200, batch_size= 64, dense_size= 256, learn_rate= 0.001, Accuracy=0.8375634551048279\n",
      "Params: epochs= 200, batch_size= 64, dense_size= 256, learn_rate= 0.0005, Accuracy=0.8477157354354858\n",
      "Params: epochs= 200, batch_size= 64, dense_size= 256, learn_rate= 0.0001, Accuracy=0.817258894443512\n",
      "Params: epochs= 200, batch_size= 64, dense_size= 256, learn_rate= 0.0002, Accuracy=0.8324872851371765\n"
     ]
    }
   ],
   "source": [
    "# fit the model\n",
    "# Params: epochs= 200, batch_size= 32, dense_size= 256, learn_rate= 0.001, Accuracy=0.8781725764274597\n",
    "epochs = [100,150,200]\n",
    "batch_size = [8, 16, 32, 64]\n",
    "dense_size = [100, 150, 256]\n",
    "learn_rate = [0.001, 0.0005, 0.0001, 0.0002]\n",
    "acc_hist = []\n",
    "for i in range(len(epochs)):\n",
    "    for j in range(len(batch_size)):\n",
    "        for k in range(len(dense_size)):\n",
    "            for m in range(len(learn_rate)):\n",
    "                model = cnn_model(dense_size=dense_size[k],learn_rate=learn_rate[m])\n",
    "                history = model.fit(X_train, Y_train,\n",
    "                                batch_size=batch_size[j],\n",
    "                                epochs=epochs[i],\n",
    "                                verbose=0,\n",
    "                                validation_data=(X_test, Y_test)\n",
    "                                #callbacks = [PlotLossesCallback()]\n",
    "                                     )\n",
    "                acc = history.history['val_accuracy'][-1]\n",
    "                acc_hist.append(acc)\n",
    "                print('Params: '+'epochs= '+str(epochs[i])+', batch_size= '+str(batch_size[j])+', dense_size= '+\n",
    "                     str(dense_size[k])+', learn_rate= '+str(learn_rate[m])+', Accuracy='+str(acc))"
   ]
  },
  {
   "cell_type": "code",
   "execution_count": 25,
   "metadata": {},
   "outputs": [
    {
     "name": "stdout",
     "output_type": "stream",
     "text": [
      "0.8781725764274597\n"
     ]
    }
   ],
   "source": [
    "print(np.amax(acc_hist))"
   ]
  },
  {
   "cell_type": "code",
   "execution_count": null,
   "metadata": {},
   "outputs": [
    {
     "name": "stdout",
     "output_type": "stream",
     "text": [
      "[ 0  6 10  8  7  0 10  5  5  3]\n"
     ]
    }
   ],
   "source": [
    "from keras.wrappers.scikit_learn import KerasClassifier\n",
    "from sklearn.model_selection import GridSearchCV\n",
    "epochs = [100,150,200]\n",
    "batch_size = [8, 16, 32, 64]\n",
    "dense_size = [100, 150, 256]\n",
    "learn_rate = [0.001, 0.0005, 0.0001, 0.0002]\n",
    "param_grid = dict(epochs=epochs,batch_size=batch_size,learn_rate=learn_rate, dense_size=dense_size)\n",
    "Y_train_int = np.argmax(Y_train, axis=1)\n",
    "print(Y_train_int[0:10])\n",
    "model = KerasClassifier(build_fn=cnn_model, verbose=0)\n",
    "grid = GridSearchCV(estimator=model, scoring='accuracy', param_grid=param_grid, n_jobs=1, cv=3) # use all the cores (n_ jobs =-1), or set to 1 if err\n",
    "grid_result = grid.fit(X_train, Y_train_int)\n",
    "print(\"Best: %f using %s\" % (grid_result.best_score_, grid_result.best_params_))"
   ]
  },
  {
   "cell_type": "markdown",
   "metadata": {},
   "source": [
    "### Testing Accuracy"
   ]
  },
  {
   "cell_type": "code",
   "execution_count": 160,
   "metadata": {},
   "outputs": [
    {
     "name": "stdout",
     "output_type": "stream",
     "text": [
      "154/154 [==============================] - 0s 3ms/step\n"
     ]
    },
    {
     "data": {
      "text/plain": [
       "[0.5321738294192723, 0.8246753215789795]"
      ]
     },
     "execution_count": 160,
     "metadata": {},
     "output_type": "execute_result"
    }
   ],
   "source": [
    "model1.evaluate(X_test,Y_test)"
   ]
  },
  {
   "cell_type": "code",
   "execution_count": 161,
   "metadata": {},
   "outputs": [
    {
     "data": {
      "image/png": "[encoded data removed]",
      "text/plain": [
       "<Figure size 432x288 with 1 Axes>"
      ]
     },
     "metadata": {
      "needs_background": "light"
     },
     "output_type": "display_data"
    },
    {
     "data": {
      "image/png": "[encoded data removed]",
      "text/plain": [
       "<Figure size 432x288 with 1 Axes>"
      ]
     },
     "metadata": {
      "needs_background": "light"
     },
     "output_type": "display_data"
    }
   ],
   "source": [
    "# plot model accuracy\n",
    "model_num = 3\n",
    "plot_fig(model_num, history1)"
   ]
  },
  {
   "cell_type": "markdown",
   "metadata": {},
   "source": [
    "##### Save Trained Model"
   ]
  },
  {
   "cell_type": "code",
   "execution_count": 162,
   "metadata": {},
   "outputs": [],
   "source": [
    "\n",
    "MODEL_FILE = \"models/11_class_\"+str(radar)+\".h5\" # save path\n",
    "model1.save_weights(MODEL_FILE)"
   ]
  },
  {
   "cell_type": "markdown",
   "metadata": {},
   "source": [
    "### Confusion Matrix"
   ]
  },
  {
   "cell_type": "code",
   "execution_count": 13,
   "metadata": {},
   "outputs": [
    {
     "data": {
      "text/plain": [
       "<matplotlib.axes._subplots.AxesSubplot at 0x18a708c9ac8>"
      ]
     },
     "execution_count": 13,
     "metadata": {},
     "output_type": "execute_result"
    },
    {
     "data": {
      "image/png": "[encoded data removed]",
      "text/plain": [
       "<Figure size 432x288 with 2 Axes>"
      ]
     },
     "metadata": {
      "needs_background": "light"
     },
     "output_type": "display_data"
    }
   ],
   "source": [
    "import pandas as pd\n",
    "import seaborn as sn\n",
    "\n",
    "predictions = model1.predict(X_test)\n",
    "Y_pred = np.argmax(predictions, axis=1)\n",
    "Y_test_int = np.argmax(Y_test, axis=1)\n",
    "#print(predictions[0:5])\n",
    "#print(Y_pred[0:5])\n",
    "#print(Y_test_int[0:5])\n",
    "data = {'y_Predicted': Y_pred,\n",
    "        'y_Actual':    Y_test_int\n",
    "        }\n",
    "\n",
    "df = pd.DataFrame(data, columns=['y_Actual','y_Predicted'])\n",
    "confusion_matrix = pd.crosstab(df['y_Actual'], df['y_Predicted'], rownames=['Actual'], colnames=['Predicted'], margins = False)\n",
    "fig3 = plt.figure()\n",
    "sn.heatmap(confusion_matrix, annot=True)\n",
    "# fig3.savefig('results/Conf_Model'+str(model_num)+'_'+str(radar)+'GHz'+'_Batchsize'+str(BATCH_SIZE)+'_learning'+str(lr)+'_dropout'+str(drop)+'.png')\n",
    "# plt.close(fig3)"
   ]
  },
  {
   "cell_type": "code",
   "execution_count": 222,
   "metadata": {},
   "outputs": [],
   "source": [
    "datagen = ImageDataGenerator(rescale=1.0/255.0,\n",
    "#     featurewise_center=True,\n",
    "#     featurewise_std_normalization=True,\n",
    "#     rotation_range=0, # 20\n",
    "#     width_shift_range=0, # 0.2\n",
    "#     height_shift_range=0, # 0.2\n",
    "    #horizontal_flip=True\n",
    "    )"
   ]
  },
  {
   "cell_type": "code",
   "execution_count": 223,
   "metadata": {},
   "outputs": [],
   "source": [
    "# compute quantities required for featurewise normalization\n",
    "# (std, mean, and principal components if ZCA whitening is applied)\n",
    "datagen.fit(X_train)"
   ]
  },
  {
   "cell_type": "code",
   "execution_count": 224,
   "metadata": {
    "scrolled": false
   },
   "outputs": [
    {
     "data": {
      "image/png": "[encoded data removed]",
      "text/plain": [
       "<Figure size 864x576 with 2 Axes>"
      ]
     },
     "metadata": {
      "needs_background": "light"
     },
     "output_type": "display_data"
    },
    {
     "name": "stdout",
     "output_type": "stream",
     "text": [
      "Log-loss (cost function):\n",
      "training   (min:    2.109, max:    2.398, cur:    2.109)\n",
      "validation (min:    2.031, max:   11.458, cur:   11.458)\n",
      "\n",
      "accuracy:\n",
      "training   (min:    0.069, max:    0.424, cur:    0.405)\n",
      "validation (min:    0.077, max:    0.308, cur:    0.308)\n",
      "Epoch 21/100\n",
      "2/8 [======>.......................] - ETA: 1s - loss: 2.0664 - accuracy: 0.4062"
     ]
    },
    {
     "ename": "KeyboardInterrupt",
     "evalue": "",
     "output_type": "error",
     "traceback": [
      "\u001b[1;31m---------------------------------------------------------------------------\u001b[0m",
      "\u001b[1;31mKeyboardInterrupt\u001b[0m                         Traceback (most recent call last)",
      "\u001b[1;32m<ipython-input-224-bcaa8f02f42d>\u001b[0m in \u001b[0;36m<module>\u001b[1;34m\u001b[0m\n\u001b[0;32m      6\u001b[0m                     \u001b[0mvalidation_data\u001b[0m \u001b[1;33m=\u001b[0m \u001b[1;33m(\u001b[0m\u001b[0mX_test\u001b[0m\u001b[1;33m,\u001b[0m \u001b[0mY_test\u001b[0m\u001b[1;33m)\u001b[0m\u001b[1;33m,\u001b[0m\u001b[1;33m\u001b[0m\u001b[1;33m\u001b[0m\u001b[0m\n\u001b[0;32m      7\u001b[0m                     \u001b[0mvalidation_steps\u001b[0m\u001b[1;33m=\u001b[0m \u001b[0mX_test\u001b[0m\u001b[1;33m.\u001b[0m\u001b[0mshape\u001b[0m\u001b[1;33m[\u001b[0m\u001b[1;36m0\u001b[0m\u001b[1;33m]\u001b[0m \u001b[1;33m/\u001b[0m \u001b[0mBATCH_SIZE\u001b[0m\u001b[1;33m,\u001b[0m\u001b[1;33m\u001b[0m\u001b[1;33m\u001b[0m\u001b[0m\n\u001b[1;32m----> 8\u001b[1;33m                    callbacks = [PlotLossesCallback()])\n\u001b[0m",
      "\u001b[1;32m~\\Anaconda3\\lib\\site-packages\\keras\\legacy\\interfaces.py\u001b[0m in \u001b[0;36mwrapper\u001b[1;34m(*args, **kwargs)\u001b[0m\n\u001b[0;32m     89\u001b[0m                 warnings.warn('Update your `' + object_name + '` call to the ' +\n\u001b[0;32m     90\u001b[0m                               'Keras 2 API: ' + signature, stacklevel=2)\n\u001b[1;32m---> 91\u001b[1;33m             \u001b[1;32mreturn\u001b[0m \u001b[0mfunc\u001b[0m\u001b[1;33m(\u001b[0m\u001b[1;33m*\u001b[0m\u001b[0margs\u001b[0m\u001b[1;33m,\u001b[0m \u001b[1;33m**\u001b[0m\u001b[0mkwargs\u001b[0m\u001b[1;33m)\u001b[0m\u001b[1;33m\u001b[0m\u001b[1;33m\u001b[0m\u001b[0m\n\u001b[0m\u001b[0;32m     92\u001b[0m         \u001b[0mwrapper\u001b[0m\u001b[1;33m.\u001b[0m\u001b[0m_original_function\u001b[0m \u001b[1;33m=\u001b[0m \u001b[0mfunc\u001b[0m\u001b[1;33m\u001b[0m\u001b[1;33m\u001b[0m\u001b[0m\n\u001b[0;32m     93\u001b[0m         \u001b[1;32mreturn\u001b[0m \u001b[0mwrapper\u001b[0m\u001b[1;33m\u001b[0m\u001b[1;33m\u001b[0m\u001b[0m\n",
      "\u001b[1;32m~\\Anaconda3\\lib\\site-packages\\keras\\engine\\training.py\u001b[0m in \u001b[0;36mfit_generator\u001b[1;34m(self, generator, steps_per_epoch, epochs, verbose, callbacks, validation_data, validation_steps, validation_freq, class_weight, max_queue_size, workers, use_multiprocessing, shuffle, initial_epoch)\u001b[0m\n\u001b[0;32m   1730\u001b[0m             \u001b[0muse_multiprocessing\u001b[0m\u001b[1;33m=\u001b[0m\u001b[0muse_multiprocessing\u001b[0m\u001b[1;33m,\u001b[0m\u001b[1;33m\u001b[0m\u001b[1;33m\u001b[0m\u001b[0m\n\u001b[0;32m   1731\u001b[0m             \u001b[0mshuffle\u001b[0m\u001b[1;33m=\u001b[0m\u001b[0mshuffle\u001b[0m\u001b[1;33m,\u001b[0m\u001b[1;33m\u001b[0m\u001b[1;33m\u001b[0m\u001b[0m\n\u001b[1;32m-> 1732\u001b[1;33m             initial_epoch=initial_epoch)\n\u001b[0m\u001b[0;32m   1733\u001b[0m \u001b[1;33m\u001b[0m\u001b[0m\n\u001b[0;32m   1734\u001b[0m     \u001b[1;33m@\u001b[0m\u001b[0minterfaces\u001b[0m\u001b[1;33m.\u001b[0m\u001b[0mlegacy_generator_methods_support\u001b[0m\u001b[1;33m\u001b[0m\u001b[1;33m\u001b[0m\u001b[0m\n",
      "\u001b[1;32m~\\Anaconda3\\lib\\site-packages\\keras\\engine\\training_generator.py\u001b[0m in \u001b[0;36mfit_generator\u001b[1;34m(model, generator, steps_per_epoch, epochs, verbose, callbacks, validation_data, validation_steps, validation_freq, class_weight, max_queue_size, workers, use_multiprocessing, shuffle, initial_epoch)\u001b[0m\n\u001b[0;32m    218\u001b[0m                                             \u001b[0msample_weight\u001b[0m\u001b[1;33m=\u001b[0m\u001b[0msample_weight\u001b[0m\u001b[1;33m,\u001b[0m\u001b[1;33m\u001b[0m\u001b[1;33m\u001b[0m\u001b[0m\n\u001b[0;32m    219\u001b[0m                                             \u001b[0mclass_weight\u001b[0m\u001b[1;33m=\u001b[0m\u001b[0mclass_weight\u001b[0m\u001b[1;33m,\u001b[0m\u001b[1;33m\u001b[0m\u001b[1;33m\u001b[0m\u001b[0m\n\u001b[1;32m--> 220\u001b[1;33m                                             reset_metrics=False)\n\u001b[0m\u001b[0;32m    221\u001b[0m \u001b[1;33m\u001b[0m\u001b[0m\n\u001b[0;32m    222\u001b[0m                 \u001b[0mouts\u001b[0m \u001b[1;33m=\u001b[0m \u001b[0mto_list\u001b[0m\u001b[1;33m(\u001b[0m\u001b[0mouts\u001b[0m\u001b[1;33m)\u001b[0m\u001b[1;33m\u001b[0m\u001b[1;33m\u001b[0m\u001b[0m\n",
      "\u001b[1;32m~\\Anaconda3\\lib\\site-packages\\keras\\engine\\training.py\u001b[0m in \u001b[0;36mtrain_on_batch\u001b[1;34m(self, x, y, sample_weight, class_weight, reset_metrics)\u001b[0m\n\u001b[0;32m   1512\u001b[0m             \u001b[0mins\u001b[0m \u001b[1;33m=\u001b[0m \u001b[0mx\u001b[0m \u001b[1;33m+\u001b[0m \u001b[0my\u001b[0m \u001b[1;33m+\u001b[0m \u001b[0msample_weights\u001b[0m\u001b[1;33m\u001b[0m\u001b[1;33m\u001b[0m\u001b[0m\n\u001b[0;32m   1513\u001b[0m         \u001b[0mself\u001b[0m\u001b[1;33m.\u001b[0m\u001b[0m_make_train_function\u001b[0m\u001b[1;33m(\u001b[0m\u001b[1;33m)\u001b[0m\u001b[1;33m\u001b[0m\u001b[1;33m\u001b[0m\u001b[0m\n\u001b[1;32m-> 1514\u001b[1;33m         \u001b[0moutputs\u001b[0m \u001b[1;33m=\u001b[0m \u001b[0mself\u001b[0m\u001b[1;33m.\u001b[0m\u001b[0mtrain_function\u001b[0m\u001b[1;33m(\u001b[0m\u001b[0mins\u001b[0m\u001b[1;33m)\u001b[0m\u001b[1;33m\u001b[0m\u001b[1;33m\u001b[0m\u001b[0m\n\u001b[0m\u001b[0;32m   1515\u001b[0m \u001b[1;33m\u001b[0m\u001b[0m\n\u001b[0;32m   1516\u001b[0m         \u001b[1;32mif\u001b[0m \u001b[0mreset_metrics\u001b[0m\u001b[1;33m:\u001b[0m\u001b[1;33m\u001b[0m\u001b[1;33m\u001b[0m\u001b[0m\n",
      "\u001b[1;32m~\\Anaconda3\\lib\\site-packages\\tensorflow_core\\python\\keras\\backend.py\u001b[0m in \u001b[0;36m__call__\u001b[1;34m(self, inputs)\u001b[0m\n\u001b[0;32m   3738\u001b[0m         \u001b[0mvalue\u001b[0m \u001b[1;33m=\u001b[0m \u001b[0mmath_ops\u001b[0m\u001b[1;33m.\u001b[0m\u001b[0mcast\u001b[0m\u001b[1;33m(\u001b[0m\u001b[0mvalue\u001b[0m\u001b[1;33m,\u001b[0m \u001b[0mtensor\u001b[0m\u001b[1;33m.\u001b[0m\u001b[0mdtype\u001b[0m\u001b[1;33m)\u001b[0m\u001b[1;33m\u001b[0m\u001b[1;33m\u001b[0m\u001b[0m\n\u001b[0;32m   3739\u001b[0m       \u001b[0mconverted_inputs\u001b[0m\u001b[1;33m.\u001b[0m\u001b[0mappend\u001b[0m\u001b[1;33m(\u001b[0m\u001b[0mvalue\u001b[0m\u001b[1;33m)\u001b[0m\u001b[1;33m\u001b[0m\u001b[1;33m\u001b[0m\u001b[0m\n\u001b[1;32m-> 3740\u001b[1;33m     \u001b[0moutputs\u001b[0m \u001b[1;33m=\u001b[0m \u001b[0mself\u001b[0m\u001b[1;33m.\u001b[0m\u001b[0m_graph_fn\u001b[0m\u001b[1;33m(\u001b[0m\u001b[1;33m*\u001b[0m\u001b[0mconverted_inputs\u001b[0m\u001b[1;33m)\u001b[0m\u001b[1;33m\u001b[0m\u001b[1;33m\u001b[0m\u001b[0m\n\u001b[0m\u001b[0;32m   3741\u001b[0m \u001b[1;33m\u001b[0m\u001b[0m\n\u001b[0;32m   3742\u001b[0m     \u001b[1;31m# EagerTensor.numpy() will often make a copy to ensure memory safety.\u001b[0m\u001b[1;33m\u001b[0m\u001b[1;33m\u001b[0m\u001b[1;33m\u001b[0m\u001b[0m\n",
      "\u001b[1;32m~\\Anaconda3\\lib\\site-packages\\tensorflow_core\\python\\eager\\function.py\u001b[0m in \u001b[0;36m__call__\u001b[1;34m(self, *args, **kwargs)\u001b[0m\n\u001b[0;32m   1079\u001b[0m       \u001b[0mTypeError\u001b[0m\u001b[1;33m:\u001b[0m \u001b[0mFor\u001b[0m \u001b[0minvalid\u001b[0m \u001b[0mpositional\u001b[0m\u001b[1;33m/\u001b[0m\u001b[0mkeyword\u001b[0m \u001b[0margument\u001b[0m \u001b[0mcombinations\u001b[0m\u001b[1;33m.\u001b[0m\u001b[1;33m\u001b[0m\u001b[1;33m\u001b[0m\u001b[0m\n\u001b[0;32m   1080\u001b[0m     \"\"\"\n\u001b[1;32m-> 1081\u001b[1;33m     \u001b[1;32mreturn\u001b[0m \u001b[0mself\u001b[0m\u001b[1;33m.\u001b[0m\u001b[0m_call_impl\u001b[0m\u001b[1;33m(\u001b[0m\u001b[0margs\u001b[0m\u001b[1;33m,\u001b[0m \u001b[0mkwargs\u001b[0m\u001b[1;33m)\u001b[0m\u001b[1;33m\u001b[0m\u001b[1;33m\u001b[0m\u001b[0m\n\u001b[0m\u001b[0;32m   1082\u001b[0m \u001b[1;33m\u001b[0m\u001b[0m\n\u001b[0;32m   1083\u001b[0m   \u001b[1;32mdef\u001b[0m \u001b[0m_call_impl\u001b[0m\u001b[1;33m(\u001b[0m\u001b[0mself\u001b[0m\u001b[1;33m,\u001b[0m \u001b[0margs\u001b[0m\u001b[1;33m,\u001b[0m \u001b[0mkwargs\u001b[0m\u001b[1;33m,\u001b[0m \u001b[0mcancellation_manager\u001b[0m\u001b[1;33m=\u001b[0m\u001b[1;32mNone\u001b[0m\u001b[1;33m)\u001b[0m\u001b[1;33m:\u001b[0m\u001b[1;33m\u001b[0m\u001b[1;33m\u001b[0m\u001b[0m\n",
      "\u001b[1;32m~\\Anaconda3\\lib\\site-packages\\tensorflow_core\\python\\eager\\function.py\u001b[0m in \u001b[0;36m_call_impl\u001b[1;34m(self, args, kwargs, cancellation_manager)\u001b[0m\n\u001b[0;32m   1119\u001b[0m       raise TypeError(\"Keyword arguments {} unknown. Expected {}.\".format(\n\u001b[0;32m   1120\u001b[0m           list(kwargs.keys()), list(self._arg_keywords)))\n\u001b[1;32m-> 1121\u001b[1;33m     \u001b[1;32mreturn\u001b[0m \u001b[0mself\u001b[0m\u001b[1;33m.\u001b[0m\u001b[0m_call_flat\u001b[0m\u001b[1;33m(\u001b[0m\u001b[0margs\u001b[0m\u001b[1;33m,\u001b[0m \u001b[0mself\u001b[0m\u001b[1;33m.\u001b[0m\u001b[0mcaptured_inputs\u001b[0m\u001b[1;33m,\u001b[0m \u001b[0mcancellation_manager\u001b[0m\u001b[1;33m)\u001b[0m\u001b[1;33m\u001b[0m\u001b[1;33m\u001b[0m\u001b[0m\n\u001b[0m\u001b[0;32m   1122\u001b[0m \u001b[1;33m\u001b[0m\u001b[0m\n\u001b[0;32m   1123\u001b[0m   \u001b[1;32mdef\u001b[0m \u001b[0m_filtered_call\u001b[0m\u001b[1;33m(\u001b[0m\u001b[0mself\u001b[0m\u001b[1;33m,\u001b[0m \u001b[0margs\u001b[0m\u001b[1;33m,\u001b[0m \u001b[0mkwargs\u001b[0m\u001b[1;33m)\u001b[0m\u001b[1;33m:\u001b[0m\u001b[1;33m\u001b[0m\u001b[1;33m\u001b[0m\u001b[0m\n",
      "\u001b[1;32m~\\Anaconda3\\lib\\site-packages\\tensorflow_core\\python\\eager\\function.py\u001b[0m in \u001b[0;36m_call_flat\u001b[1;34m(self, args, captured_inputs, cancellation_manager)\u001b[0m\n\u001b[0;32m   1222\u001b[0m     \u001b[1;32mif\u001b[0m \u001b[0mexecuting_eagerly\u001b[0m\u001b[1;33m:\u001b[0m\u001b[1;33m\u001b[0m\u001b[1;33m\u001b[0m\u001b[0m\n\u001b[0;32m   1223\u001b[0m       flat_outputs = forward_function.call(\n\u001b[1;32m-> 1224\u001b[1;33m           ctx, args, cancellation_manager=cancellation_manager)\n\u001b[0m\u001b[0;32m   1225\u001b[0m     \u001b[1;32melse\u001b[0m\u001b[1;33m:\u001b[0m\u001b[1;33m\u001b[0m\u001b[1;33m\u001b[0m\u001b[0m\n\u001b[0;32m   1226\u001b[0m       \u001b[0mgradient_name\u001b[0m \u001b[1;33m=\u001b[0m \u001b[0mself\u001b[0m\u001b[1;33m.\u001b[0m\u001b[0m_delayed_rewrite_functions\u001b[0m\u001b[1;33m.\u001b[0m\u001b[0mregister\u001b[0m\u001b[1;33m(\u001b[0m\u001b[1;33m)\u001b[0m\u001b[1;33m\u001b[0m\u001b[1;33m\u001b[0m\u001b[0m\n",
      "\u001b[1;32m~\\Anaconda3\\lib\\site-packages\\tensorflow_core\\python\\eager\\function.py\u001b[0m in \u001b[0;36mcall\u001b[1;34m(self, ctx, args, cancellation_manager)\u001b[0m\n\u001b[0;32m    509\u001b[0m               \u001b[0minputs\u001b[0m\u001b[1;33m=\u001b[0m\u001b[0margs\u001b[0m\u001b[1;33m,\u001b[0m\u001b[1;33m\u001b[0m\u001b[1;33m\u001b[0m\u001b[0m\n\u001b[0;32m    510\u001b[0m               \u001b[0mattrs\u001b[0m\u001b[1;33m=\u001b[0m\u001b[1;33m(\u001b[0m\u001b[1;34m\"executor_type\"\u001b[0m\u001b[1;33m,\u001b[0m \u001b[0mexecutor_type\u001b[0m\u001b[1;33m,\u001b[0m \u001b[1;34m\"config_proto\"\u001b[0m\u001b[1;33m,\u001b[0m \u001b[0mconfig\u001b[0m\u001b[1;33m)\u001b[0m\u001b[1;33m,\u001b[0m\u001b[1;33m\u001b[0m\u001b[1;33m\u001b[0m\u001b[0m\n\u001b[1;32m--> 511\u001b[1;33m               ctx=ctx)\n\u001b[0m\u001b[0;32m    512\u001b[0m         \u001b[1;32melse\u001b[0m\u001b[1;33m:\u001b[0m\u001b[1;33m\u001b[0m\u001b[1;33m\u001b[0m\u001b[0m\n\u001b[0;32m    513\u001b[0m           outputs = execute.execute_with_cancellation(\n",
      "\u001b[1;32m~\\Anaconda3\\lib\\site-packages\\tensorflow_core\\python\\eager\\execute.py\u001b[0m in \u001b[0;36mquick_execute\u001b[1;34m(op_name, num_outputs, inputs, attrs, ctx, name)\u001b[0m\n\u001b[0;32m     59\u001b[0m     tensors = pywrap_tensorflow.TFE_Py_Execute(ctx._handle, device_name,\n\u001b[0;32m     60\u001b[0m                                                \u001b[0mop_name\u001b[0m\u001b[1;33m,\u001b[0m \u001b[0minputs\u001b[0m\u001b[1;33m,\u001b[0m \u001b[0mattrs\u001b[0m\u001b[1;33m,\u001b[0m\u001b[1;33m\u001b[0m\u001b[1;33m\u001b[0m\u001b[0m\n\u001b[1;32m---> 61\u001b[1;33m                                                num_outputs)\n\u001b[0m\u001b[0;32m     62\u001b[0m   \u001b[1;32mexcept\u001b[0m \u001b[0mcore\u001b[0m\u001b[1;33m.\u001b[0m\u001b[0m_NotOkStatusException\u001b[0m \u001b[1;32mas\u001b[0m \u001b[0me\u001b[0m\u001b[1;33m:\u001b[0m\u001b[1;33m\u001b[0m\u001b[1;33m\u001b[0m\u001b[0m\n\u001b[0;32m     63\u001b[0m     \u001b[1;32mif\u001b[0m \u001b[0mname\u001b[0m \u001b[1;32mis\u001b[0m \u001b[1;32mnot\u001b[0m \u001b[1;32mNone\u001b[0m\u001b[1;33m:\u001b[0m\u001b[1;33m\u001b[0m\u001b[1;33m\u001b[0m\u001b[0m\n",
      "\u001b[1;31mKeyboardInterrupt\u001b[0m: "
     ]
    }
   ],
   "source": [
    "# fits the model on batches with real-time data augmentation:\n",
    "model2 = cnn_model(drop)\n",
    "model2.compile(loss='categorical_crossentropy', optimizer=optim, metrics=['accuracy'])\n",
    "history2 = model2.fit_generator(datagen.flow(X_train, Y_train, batch_size=BATCH_SIZE),\n",
    "                    steps_per_epoch= X_train.shape[0] / BATCH_SIZE, epochs=EPOCHS,\n",
    "                    validation_data = (X_test, Y_test), \n",
    "                    validation_steps= X_test.shape[0] / BATCH_SIZE,\n",
    "                   callbacks = [PlotLossesCallback()])"
   ]
  },
  {
   "cell_type": "code",
   "execution_count": null,
   "metadata": {},
   "outputs": [],
   "source": []
  }
 ],
 "metadata": {
  "kernelspec": {
   "display_name": "Python 3",
   "language": "python",
   "name": "python3"
  },
  "language_info": {
   "codemirror_mode": {
    "name": "ipython",
    "version": 3
   },
   "file_extension": ".py",
   "mimetype": "text/x-python",
   "name": "python",
   "nbconvert_exporter": "python",
   "pygments_lexer": "ipython3",
   "version": "3.7.6"
  }
 },
 "nbformat": 4,
 "nbformat_minor": 2
}
