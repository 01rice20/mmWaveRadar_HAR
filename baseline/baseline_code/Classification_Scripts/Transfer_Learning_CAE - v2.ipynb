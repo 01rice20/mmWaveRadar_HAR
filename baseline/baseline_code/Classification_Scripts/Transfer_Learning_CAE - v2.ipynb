{
 "cells": [
  {
   "cell_type": "code",
   "execution_count": 4,
   "metadata": {
    "scrolled": true
   },
   "outputs": [],
   "source": [
    "%matplotlib inline\n",
    "import matplotlib.pyplot as plt\n",
    "import matplotlib.image as mpimg\n",
    "import tensorflow as tf\n",
    "from keras.preprocessing.image import ImageDataGenerator\n",
    "from keras.models import Sequential, Model, model_from_json\n",
    "from keras.optimizers import RMSprop,Adam,SGD\n",
    "from keras.layers import Activation, Dropout, Flatten, Dense, GlobalMaxPooling2D, Conv2D, MaxPooling2D\n",
    "from keras.callbacks import CSVLogger\n",
    "from keras.wrappers.scikit_learn import KerasClassifier\n",
    "from livelossplot.keras import PlotLossesCallback\n",
    "import efficientnet.keras as efn\n",
    "import h5py, glob\n",
    "import numpy as np\n",
    "import itertools\n",
    "from cnn_utils import *\n",
    "from tensorflow.compat.v1 import ConfigProto\n",
    "from tensorflow.compat.v1 import InteractiveSession\n",
    "from sklearn.metrics import classification_report, confusion_matrix\n",
    "\n",
    "from tensorflow.compat.v1 import ConfigProto\n",
    "from tensorflow.compat.v1 import InteractiveSession\n",
    "\n",
    "config = ConfigProto()\n",
    "config.gpu_options.allow_growth = True\n",
    "session = InteractiveSession(config=config)\n",
    "\n",
    "np.random.seed(1)"
   ]
  },
  {
   "cell_type": "markdown",
   "metadata": {},
   "source": [
    "# Load Data"
   ]
  },
  {
   "cell_type": "code",
   "execution_count": 5,
   "metadata": {},
   "outputs": [
    {
     "name": "stdout",
     "output_type": "stream",
     "text": [
      "1. Datasets Number of training samples:  588\n",
      "1. Datasets Number of test samples:  147\n",
      "2. Datasets Number of training samples:  1695\n",
      "2. Datasets Number of test samples:  424\n",
      "3. Datasets Number of training samples:  519\n",
      "3. Datasets Number of test samples:  130\n",
      "4. Datasets Number of training samples:  645\n",
      "4. Datasets Number of test samples:  162\n"
     ]
    }
   ],
   "source": [
    "datapath = 'datasets/88x120/*.hdf5'\n",
    "all_data = glob.glob(datapath)\n",
    "\n",
    "data_10 = h5py.File(all_data[0], \"r\")\n",
    "data_24 = h5py.File(all_data[1], \"r\")\n",
    "data_77 = h5py.File(all_data[2], \"r\")\n",
    "data_tobb = h5py.File(all_data[3], \"r\")\n",
    "\n",
    "# test_path4 = 'Tobb_dataset/tobb_dataset_128x128.hdf5' # file path for TOBB data  \n",
    "# testset4   = h5py.File(test_path4, \"r\")\n",
    "\n",
    "X_train_10 = np.array(data_10[\"train_img\"])\n",
    "Y_train_10 = np.array(data_10[\"train_labels\"])\n",
    "# X_valid_orig = np.array(validset[\"valid_img\"])\n",
    "# Y_valid_orig = np.array(validset[\"valid_labels\"])\n",
    "X_test_10 = np.array(data_10[\"test_img\"])\n",
    "Y_test_10 = np.array(data_10[\"test_labels\"])\n",
    "print('1. Dataset''s Number of training samples: ', len(Y_train_10))\n",
    "# print('1. Radar''s Number of validation samples: ', len(X_valid_orig))\n",
    "print('1. Dataset''s Number of test samples: ', len(Y_test_10))\n",
    "\n",
    "X_train_24 = np.array(data_24[\"train_img\"])\n",
    "Y_train_24 = np.array(data_24[\"train_labels\"])\n",
    "# X_valid_orig2 = np.array(validset2[\"valid_img\"])\n",
    "# Y_valid_orig2 = np.array(validset2[\"valid_labels\"])\n",
    "X_test_24 = np.array(data_24[\"test_img\"])\n",
    "Y_test_24 = np.array(data_24[\"test_labels\"])\n",
    "print('2. Dataset''s Number of training samples: ', len(X_train_24))\n",
    "# print('2. Radar''s Number of validation samples: ', len(X_valid_orig2))\n",
    "print('2. Dataset''s Number of test samples: ', len(X_test_24))\n",
    "\n",
    "X_train_77 = np.array(data_77[\"train_img\"])\n",
    "Y_train_77 = np.array(data_77[\"train_labels\"])\n",
    "# X_valid_orig3 = np.array(validset3[\"valid_img\"])\n",
    "# Y_valid_orig3 = np.array(validset3[\"valid_labels\"])\n",
    "X_test_77 = np.array(data_77[\"test_img\"])\n",
    "Y_test_77 = np.array(data_77[\"test_labels\"])\n",
    "print('3. Dataset''s Number of training samples: ', len(X_train_77))\n",
    "# print('3. Radar''s Number of validation samples: ', len(X_valid_orig3))\n",
    "print('3. Dataset''s Number of test samples: ', len(X_test_77))\n",
    "\n",
    "\n",
    "X_train_tobb = np.array(data_tobb[\"train_img\"])\n",
    "Y_train_tobb = np.array(data_tobb[\"train_labels\"])\n",
    "# X_valid_orig3 = np.array(validset3[\"valid_img\"])\n",
    "# Y_valid_orig3 = np.array(validset3[\"valid_labels\"])\n",
    "X_test_tobb = np.array(data_tobb[\"test_img\"])\n",
    "Y_test_tobb = np.array(data_tobb[\"test_labels\"])\n",
    "print('4. Dataset''s Number of training samples: ', len(X_train_tobb))\n",
    "# print('4. Radar''s Number of validation samples: ', len(X_valid_orig4))\n",
    "print('4. Dataset''s Number of test samples: ', len(X_test_tobb))\n",
    "\n",
    "\n",
    "\n",
    "data_10.close()\n",
    "data_24.close()\n",
    "data_77.close()\n",
    "data_tobb.close()"
   ]
  },
  {
   "cell_type": "markdown",
   "metadata": {},
   "source": [
    "## Examine the shapes of data"
   ]
  },
  {
   "cell_type": "code",
   "execution_count": 6,
   "metadata": {},
   "outputs": [],
   "source": [
    "num_class = 11"
   ]
  },
  {
   "cell_type": "code",
   "execution_count": 7,
   "metadata": {},
   "outputs": [
    {
     "name": "stdout",
     "output_type": "stream",
     "text": [
      "X_train_10 shape: (588, 88, 120, 3)\n",
      "Y_train_10 shape: (588, 11)\n",
      "X_test_10 shape: (147, 88, 120, 3)\n",
      "Y_test_10 shape: (147, 11)\n",
      "\n",
      "\n",
      "X_train_24 shape: (1695, 88, 120, 3)\n",
      "Y_train_24 shape: (1695, 11)\n",
      "X_test_24 shape: (424, 88, 120, 3)\n",
      "Y_test_24 shape: (424, 11)\n",
      "\n",
      "\n",
      "X_train_77 shape: (519, 88, 120, 3)\n",
      "Y_train_77 shape: (519, 11)\n",
      "X_test_77 shape: (130, 88, 120, 3)\n",
      "Y_test_77 shape: (130, 11)\n",
      "\n",
      "\n",
      "X_train_tobb shape: (645, 88, 120, 3)\n",
      "Y_train_tobb shape: (645, 11)\n",
      "X_test_tobb shape: (162, 88, 120, 3)\n",
      "Y_test_tobb shape: (162, 11)\n",
      "\n",
      "\n"
     ]
    }
   ],
   "source": [
    "x_train_10 = X_train_10/255.\n",
    "# X_valid = X_valid_orig/255.\n",
    "x_test_10 = X_test_10/255.\n",
    "y_train_10 = convert_to_one_hot(Y_train_10, num_class).T\n",
    "# Y_valid = convert_to_one_hot(Y_valid_orig, num_class).T\n",
    "y_test_10 = convert_to_one_hot(Y_test_10, num_class).T\n",
    "print (\"X_train_10 shape: \" + str(x_train_10.shape))\n",
    "print (\"Y_train_10 shape: \" + str(y_train_10.shape))\n",
    "# print (\"X_valid shape: \" + str(X_valid.shape))\n",
    "# print (\"Y_valid shape: \" + str(Y_valid.shape))\n",
    "print (\"X_test_10 shape: \" + str(x_test_10.shape))\n",
    "print (\"Y_test_10 shape: \" + str(y_test_10.shape)+\"\\n\\n\")\n",
    "\n",
    "x_train_24 = X_train_24/255.\n",
    "# X_valid = X_valid_orig/255.\n",
    "x_test_24 = X_test_24/255.\n",
    "y_train_24 = convert_to_one_hot(Y_train_24, num_class).T\n",
    "# Y_valid = convert_to_one_hot(Y_valid_orig, num_class).T\n",
    "y_test_24 = convert_to_one_hot(Y_test_24, num_class).T\n",
    "print (\"X_train_24 shape: \" + str(x_train_24.shape))\n",
    "print (\"Y_train_24 shape: \" + str(y_train_24.shape))\n",
    "# print (\"X_valid shape: \" + str(X_valid.shape))\n",
    "# print (\"Y_valid shape: \" + str(Y_valid.shape))\n",
    "print (\"X_test_24 shape: \" + str(x_test_24.shape))\n",
    "print (\"Y_test_24 shape: \" + str(y_test_24.shape)+\"\\n\\n\")\n",
    "\n",
    "x_train_77 = X_train_77/255.\n",
    "# X_valid = X_valid_orig/255.\n",
    "x_test_77 = X_test_77/255.\n",
    "y_train_77 = convert_to_one_hot(Y_train_77, num_class).T\n",
    "# Y_valid = convert_to_one_hot(Y_valid_orig, num_class).T\n",
    "y_test_77 = convert_to_one_hot(Y_test_77, num_class).T\n",
    "print (\"X_train_77 shape: \" + str(x_train_77.shape))\n",
    "print (\"Y_train_77 shape: \" + str(y_train_77.shape))\n",
    "# print (\"X_valid shape: \" + str(X_valid.shape))\n",
    "# print (\"Y_valid shape: \" + str(Y_valid.shape))\n",
    "print (\"X_test_77 shape: \" + str(x_test_77.shape))\n",
    "print (\"Y_test_77 shape: \" + str(y_test_77.shape)+\"\\n\\n\")\n",
    "\n",
    "\n",
    "x_train_tobb = X_train_tobb/255.\n",
    "# X_valid = X_valid_orig/255.\n",
    "x_test_tobb = X_test_tobb/255.\n",
    "y_train_tobb = convert_to_one_hot(Y_train_tobb, num_class).T\n",
    "# Y_valid = convert_to_one_hot(Y_valid_orig, num_class).T\n",
    "y_test_tobb = convert_to_one_hot(Y_test_tobb, num_class).T\n",
    "print (\"X_train_tobb shape: \" + str(x_train_tobb.shape))\n",
    "print (\"Y_train_tobb shape: \" + str(y_train_tobb.shape))\n",
    "# print (\"X_valid shape: \" + str(X_valid.shape))\n",
    "# print (\"Y_valid shape: \" + str(Y_valid.shape))\n",
    "print (\"X_test_tobb shape: \" + str(x_test_tobb.shape))\n",
    "print (\"Y_test_tobb shape: \" + str(y_test_tobb.shape)+\"\\n\\n\")"
   ]
  },
  {
   "cell_type": "markdown",
   "metadata": {},
   "source": [
    "# Select Dataset"
   ]
  },
  {
   "cell_type": "code",
   "execution_count": 8,
   "metadata": {},
   "outputs": [],
   "source": [
    "# set flag: '0' for 10ghz, '1' for 24ghz, '2' for 77ghz and '3' for 4GHz USRP TOBB Data\n",
    "def select_data(flag):\n",
    "\n",
    "    if flag==0:\n",
    "        X_Train = x_train_10\n",
    "        Y_Train = y_train_10\n",
    "    #     X_valid = X_valid\n",
    "    #     Y_valid = Y_valid\n",
    "        X_Test = x_test_10\n",
    "        Y_Test = y_test_10\n",
    "        radar = 10\n",
    "    elif flag==1:\n",
    "        X_Train = x_train_24\n",
    "        Y_Train = y_train_24\n",
    "    #     X_valid = X_valid2\n",
    "    #     Y_valid = Y_valid2\n",
    "        X_Test = x_test_24\n",
    "        Y_Test = y_test_24\n",
    "        radar = 24\n",
    "    elif flag==2: \n",
    "        X_Train = x_train_77\n",
    "        Y_Train = y_train_77\n",
    "    #     X_valid = X_valid3\n",
    "    #     Y_valid = Y_valid3\n",
    "        X_Test = x_test_77\n",
    "        Y_Test = y_test_77\n",
    "        radar = 77\n",
    "    elif flag==3: \n",
    "        X_Train = x_train_tobb\n",
    "        Y_Train = y_train_tobb\n",
    "    #     X_valid = X_valid4\n",
    "    #     Y_valid = Y_valid4\n",
    "        X_Test = x_test_tobb\n",
    "        Y_Test = y_test_tobb\n",
    "        radar = 4 \n",
    "    return radar, X_Train, Y_Train, X_Test, Y_Test"
   ]
  },
  {
   "cell_type": "markdown",
   "metadata": {},
   "source": [
    "## Define Plotting & Saving Function"
   ]
  },
  {
   "cell_type": "code",
   "execution_count": 9,
   "metadata": {},
   "outputs": [],
   "source": [
    "def plot_fig(i, history):\n",
    "    fig = plt.figure()\n",
    "    plt.plot(range(1,EPOCHS+1),history.history['accuracy'],label='Training')\n",
    "    plt.plot(range(1,EPOCHS+1),history.history['val_accuracy'],label='Validation')\n",
    "    plt.legend(loc=0)\n",
    "    plt.xlabel('Epochs')\n",
    "    plt.ylabel('Accuracy')\n",
    "    plt.xlim([1,EPOCHS])\n",
    "    plt.grid(True)\n",
    "    plt.title(\"Model Accuracy\")\n",
    "    plt.show()\n",
    "    fig.savefig('results/Model'+str(i)+'_'+str(radar)+'GHz'+'_Batchsize'+str(BATCH_SIZE)+'_learning'+str(lr)+'_dropout'+str(drop)+'-acc.png')\n",
    "    plt.close(fig)\n",
    "    # summarize history for loss\n",
    "    fig2 = plt.figure()\n",
    "    plt.plot(range(1,EPOCHS+1),history.history['loss'],label='Training')\n",
    "    plt.plot(range(1,EPOCHS+1),history.history['val_loss'],label='Validation')\n",
    "    plt.legend(loc=0)\n",
    "    plt.title('Model Loss')\n",
    "    plt.ylabel('Loss')\n",
    "    plt.xlabel('Epoch')\n",
    "    plt.xlim([1,EPOCHS])\n",
    "    plt.grid(True)\n",
    "    plt.legend(['Train', 'Validation'], loc='upper left')\n",
    "    plt.show()\n",
    "    fig2.savefig('results/Model'+str(i)+'_'+str(radar)+'GHz'+'_Batchsize'+str(BATCH_SIZE)+'_learning'+str(lr)+'_dropout'+str(drop)+'-loss.png')\n",
    "    plt.close(fig2)"
   ]
  },
  {
   "cell_type": "markdown",
   "metadata": {},
   "source": [
    "# Load Trained Models"
   ]
  },
  {
   "cell_type": "code",
   "execution_count": 10,
   "metadata": {
    "scrolled": true
   },
   "outputs": [
    {
     "name": "stdout",
     "output_type": "stream",
     "text": [
      "Loaded model from disk\n",
      "Model: \"model_1\"\n",
      "__________________________________________________________________________________________________\n",
      "Layer (type)                    Output Shape         Param #     Connected to                     \n",
      "==================================================================================================\n",
      "input_1 (InputLayer)            (None, 88, 120, 3)   0                                            \n",
      "__________________________________________________________________________________________________\n",
      "conv2d_1 (Conv2D)               (None, 88, 120, 32)  896         input_1[0][0]                    \n",
      "__________________________________________________________________________________________________\n",
      "conv2d_2 (Conv2D)               (None, 88, 120, 32)  7808        input_1[0][0]                    \n",
      "__________________________________________________________________________________________________\n",
      "concatenate_1 (Concatenate)     (None, 88, 120, 64)  0           conv2d_1[0][0]                   \n",
      "                                                                 conv2d_2[0][0]                   \n",
      "__________________________________________________________________________________________________\n",
      "max_pooling2d_1 (MaxPooling2D)  (None, 44, 60, 64)   0           concatenate_1[0][0]              \n",
      "__________________________________________________________________________________________________\n",
      "conv2d_3 (Conv2D)               (None, 44, 60, 32)   18464       max_pooling2d_1[0][0]            \n",
      "__________________________________________________________________________________________________\n",
      "conv2d_4 (Conv2D)               (None, 44, 60, 32)   165920      max_pooling2d_1[0][0]            \n",
      "__________________________________________________________________________________________________\n",
      "concatenate_2 (Concatenate)     (None, 44, 60, 64)   0           conv2d_3[0][0]                   \n",
      "                                                                 conv2d_4[0][0]                   \n",
      "__________________________________________________________________________________________________\n",
      "max_pooling2d_2 (MaxPooling2D)  (None, 22, 30, 64)   0           concatenate_2[0][0]              \n",
      "__________________________________________________________________________________________________\n",
      "conv2d_5 (Conv2D)               (None, 22, 30, 32)   18464       max_pooling2d_2[0][0]            \n",
      "__________________________________________________________________________________________________\n",
      "conv2d_6 (Conv2D)               (None, 22, 30, 32)   165920      max_pooling2d_2[0][0]            \n",
      "__________________________________________________________________________________________________\n",
      "concatenate_3 (Concatenate)     (None, 22, 30, 64)   0           conv2d_5[0][0]                   \n",
      "                                                                 conv2d_6[0][0]                   \n",
      "__________________________________________________________________________________________________\n",
      "max_pooling2d_3 (MaxPooling2D)  (None, 11, 15, 64)   0           concatenate_3[0][0]              \n",
      "__________________________________________________________________________________________________\n",
      "conv2d_7 (Conv2D)               (None, 11, 15, 32)   165920      max_pooling2d_3[0][0]            \n",
      "__________________________________________________________________________________________________\n",
      "conv2d_8 (Conv2D)               (None, 11, 15, 32)   18464       max_pooling2d_3[0][0]            \n",
      "__________________________________________________________________________________________________\n",
      "concatenate_4 (Concatenate)     (None, 11, 15, 64)   0           conv2d_7[0][0]                   \n",
      "                                                                 conv2d_8[0][0]                   \n",
      "__________________________________________________________________________________________________\n",
      "up_sampling2d_1 (UpSampling2D)  (None, 22, 30, 64)   0           concatenate_4[0][0]              \n",
      "__________________________________________________________________________________________________\n",
      "conv2d_9 (Conv2D)               (None, 22, 30, 32)   165920      up_sampling2d_1[0][0]            \n",
      "__________________________________________________________________________________________________\n",
      "conv2d_10 (Conv2D)              (None, 22, 30, 32)   18464       up_sampling2d_1[0][0]            \n",
      "__________________________________________________________________________________________________\n",
      "concatenate_5 (Concatenate)     (None, 22, 30, 64)   0           conv2d_9[0][0]                   \n",
      "                                                                 conv2d_10[0][0]                  \n",
      "__________________________________________________________________________________________________\n",
      "up_sampling2d_2 (UpSampling2D)  (None, 44, 60, 64)   0           concatenate_5[0][0]              \n",
      "__________________________________________________________________________________________________\n",
      "conv2d_11 (Conv2D)              (None, 44, 60, 32)   165920      up_sampling2d_2[0][0]            \n",
      "__________________________________________________________________________________________________\n",
      "conv2d_12 (Conv2D)              (None, 44, 60, 32)   18464       up_sampling2d_2[0][0]            \n",
      "__________________________________________________________________________________________________\n",
      "concatenate_6 (Concatenate)     (None, 44, 60, 64)   0           conv2d_11[0][0]                  \n",
      "                                                                 conv2d_12[0][0]                  \n",
      "__________________________________________________________________________________________________\n",
      "up_sampling2d_3 (UpSampling2D)  (None, 88, 120, 64)  0           concatenate_6[0][0]              \n",
      "__________________________________________________________________________________________________\n",
      "conv2d_13 (Conv2D)              (None, 88, 120, 3)   1731        up_sampling2d_3[0][0]            \n",
      "==================================================================================================\n",
      "Total params: 932,355\n",
      "Trainable params: 932,355\n",
      "Non-trainable params: 0\n",
      "__________________________________________________________________________________________________\n"
     ]
    }
   ],
   "source": [
    "radar = 77 # 10 , 24, 4, or 77\n",
    "model_file = \"models/88x120 CAE/\"+str(radar)+\" GHz 11_class CAE.json\"\n",
    "weights_file = \"models/88x120 CAE/\"+str(radar)+\" GHz 11_class CAE.h5\"\n",
    "# model_file = \"models/Tobb_12_class_CAE_4GHz.json\"\n",
    "# weights_file = \"models/Tobb_12_class_CAE_4GHz.h5\"\n",
    "\n",
    "json_file = open(model_file, 'r')\n",
    "loaded_model_json = json_file.read()\n",
    "json_file.close()\n",
    "loaded_model = model_from_json(loaded_model_json)\n",
    "# load weights into new model\n",
    "loaded_model.load_weights(weights_file)\n",
    "print(\"Loaded model from disk\")\n",
    "loaded_model.summary()"
   ]
  },
  {
   "cell_type": "markdown",
   "metadata": {},
   "source": [
    "## Create New Model"
   ]
  },
  {
   "cell_type": "code",
   "execution_count": 11,
   "metadata": {},
   "outputs": [
    {
     "name": "stdout",
     "output_type": "stream",
     "text": [
      "Model: \"model_1\"\n",
      "__________________________________________________________________________________________________\n",
      "Layer (type)                    Output Shape         Param #     Connected to                     \n",
      "==================================================================================================\n",
      "input_1 (InputLayer)            (None, 88, 120, 3)   0                                            \n",
      "__________________________________________________________________________________________________\n",
      "conv2d_1 (Conv2D)               (None, 88, 120, 32)  896         input_1[0][0]                    \n",
      "__________________________________________________________________________________________________\n",
      "conv2d_2 (Conv2D)               (None, 88, 120, 32)  7808        input_1[0][0]                    \n",
      "__________________________________________________________________________________________________\n",
      "concatenate_1 (Concatenate)     (None, 88, 120, 64)  0           conv2d_1[0][0]                   \n",
      "                                                                 conv2d_2[0][0]                   \n",
      "__________________________________________________________________________________________________\n",
      "max_pooling2d_1 (MaxPooling2D)  (None, 44, 60, 64)   0           concatenate_1[0][0]              \n",
      "__________________________________________________________________________________________________\n",
      "conv2d_3 (Conv2D)               (None, 44, 60, 32)   18464       max_pooling2d_1[0][0]            \n",
      "__________________________________________________________________________________________________\n",
      "conv2d_4 (Conv2D)               (None, 44, 60, 32)   165920      max_pooling2d_1[0][0]            \n",
      "__________________________________________________________________________________________________\n",
      "concatenate_2 (Concatenate)     (None, 44, 60, 64)   0           conv2d_3[0][0]                   \n",
      "                                                                 conv2d_4[0][0]                   \n",
      "__________________________________________________________________________________________________\n",
      "max_pooling2d_2 (MaxPooling2D)  (None, 22, 30, 64)   0           concatenate_2[0][0]              \n",
      "__________________________________________________________________________________________________\n",
      "conv2d_5 (Conv2D)               (None, 22, 30, 32)   18464       max_pooling2d_2[0][0]            \n",
      "__________________________________________________________________________________________________\n",
      "conv2d_6 (Conv2D)               (None, 22, 30, 32)   165920      max_pooling2d_2[0][0]            \n",
      "__________________________________________________________________________________________________\n",
      "concatenate_3 (Concatenate)     (None, 22, 30, 64)   0           conv2d_5[0][0]                   \n",
      "                                                                 conv2d_6[0][0]                   \n",
      "__________________________________________________________________________________________________\n",
      "max_pooling2d_3 (MaxPooling2D)  (None, 11, 15, 64)   0           concatenate_3[0][0]              \n",
      "==================================================================================================\n",
      "Total params: 377,472\n",
      "Trainable params: 377,472\n",
      "Non-trainable params: 0\n",
      "__________________________________________________________________________________________________\n"
     ]
    }
   ],
   "source": [
    "# layer_name = 'max_pooling2d_6'\n",
    "# model2 = Model(inputs=loaded_model.input , outputs=loaded_model.get_layer(layer_name).output)\n",
    "model2 = Model(inputs=loaded_model.input , outputs=loaded_model.layers[12].output)\n",
    "model2.summary()"
   ]
  },
  {
   "cell_type": "markdown",
   "metadata": {},
   "source": [
    "## Freeze conv layers and add fully connected layers"
   ]
  },
  {
   "cell_type": "code",
   "execution_count": 9,
   "metadata": {},
   "outputs": [
    {
     "name": "stdout",
     "output_type": "stream",
     "text": [
      "<keras.engine.training.Model object at 0x000002482637F408> True\n",
      "<keras.layers.core.Flatten object at 0x00000248263974C8> True\n",
      "<keras.layers.core.Dense object at 0x00000248263976C8> True\n",
      "<keras.layers.core.Dropout object at 0x00000249D29D1448> True\n",
      "<keras.layers.core.Dense object at 0x00000249D29B6A88> True\n",
      "<keras.layers.core.Dropout object at 0x00000249D29FAB88> True\n",
      "<keras.layers.core.Dense object at 0x00000249D2AA9748> True\n",
      "<keras.layers.core.Activation object at 0x00000249D2A1B448> True\n",
      "Network Summary\n",
      "Model: \"sequential_1\"\n",
      "_________________________________________________________________\n",
      "Layer (type)                 Output Shape              Param #   \n",
      "=================================================================\n",
      "model_1 (Model)              (None, 11, 15, 64)        377472    \n",
      "_________________________________________________________________\n",
      "flatten_1 (Flatten)          (None, 10560)             0         \n",
      "_________________________________________________________________\n",
      "dense_1 (Dense)              (None, 150)               1584150   \n",
      "_________________________________________________________________\n",
      "dropout_1 (Dropout)          (None, 150)               0         \n",
      "_________________________________________________________________\n",
      "dense_2 (Dense)              (None, 150)               22650     \n",
      "_________________________________________________________________\n",
      "dropout_2 (Dropout)          (None, 150)               0         \n",
      "_________________________________________________________________\n",
      "dense_3 (Dense)              (None, 11)                1661      \n",
      "_________________________________________________________________\n",
      "activation_1 (Activation)    (None, 11)                0         \n",
      "=================================================================\n",
      "Total params: 1,985,933\n",
      "Trainable params: 1,985,933\n",
      "Non-trainable params: 0\n",
      "_________________________________________________________________\n"
     ]
    }
   ],
   "source": [
    "drop = 0.5 #.5\n",
    "model = Sequential()\n",
    "\n",
    "model.add(model2)\n",
    "model.add(Flatten())\n",
    "model.add(Dense(150, activation='relu'))\n",
    "model.add(Dropout(drop))\n",
    "\n",
    "\n",
    "model.add(Dense(150, activation='relu'))\n",
    "model.add(Dropout(drop))\n",
    "\n",
    "model.add(Dense(num_class))\n",
    "model.add(Activation('softmax'))\n",
    "\n",
    "\n",
    "# Freeze the layers except the last 7 layers\n",
    "# for layer in model.layers[:-7]:\n",
    "#     layer.trainable = False\n",
    "\n",
    "# Check the trainable status of the individual layers\n",
    "for layer in model.layers:\n",
    "    print(layer, layer.trainable)\n",
    "print('Network Summary')\n",
    "model.summary()"
   ]
  },
  {
   "cell_type": "markdown",
   "metadata": {},
   "source": [
    "## Re-train Pre-trained Models"
   ]
  },
  {
   "cell_type": "code",
   "execution_count": 10,
   "metadata": {},
   "outputs": [],
   "source": [
    "# Hyperparams\n",
    "EPOCHS = 100\n",
    "BATCH_SIZE = 32\n",
    "num_class = 11"
   ]
  },
  {
   "cell_type": "code",
   "execution_count": 11,
   "metadata": {},
   "outputs": [
    {
     "data": {
      "image/png": "[encoded data removed]",
      "text/plain": [
       "<Figure size 864x576 with 2 Axes>"
      ]
     },
     "metadata": {
      "needs_background": "light"
     },
     "output_type": "display_data"
    },
    {
     "name": "stdout",
     "output_type": "stream",
     "text": [
      "Log-loss (cost function):\n",
      "training   (min:    0.040, max:    2.411, cur:    0.064)\n",
      "validation (min:    0.313, max:    2.279, cur:    0.581)\n",
      "\n",
      "accuracy:\n",
      "training   (min:    0.133, max:    0.988, cur:    0.971)\n",
      "validation (min:    0.169, max:    0.915, cur:    0.900)\n"
     ]
    }
   ],
   "source": [
    "lr = 0.001\n",
    "flag = 2 # set flag: '0' for 10ghz, '1' for 24ghz, '2' for 77ghz, '3' for tobb 4ghz\n",
    "(radar, X_train, Y_train, X_test, Y_test) = select_data(flag)\n",
    "# optim = Adam(lr=lr, decay=1e-06) # decay rate = 5e-06 for xethru\n",
    "optim = Adam(lr=lr) # decay rate = 5e-06 for xethru\n",
    "# compile the model\n",
    "\n",
    "\n",
    "# [radar, X_train, Y_train, X_test, Y_test] = select_data(flag) \n",
    "# X_train = X_train3\n",
    "# Y_train = Y_train3\n",
    "# X_test = X_test2\n",
    "# Y_test = Y_test2\n",
    "model.compile(loss='categorical_crossentropy', optimizer=optim, metrics=['accuracy'])\n",
    "\n",
    "# fit the model\n",
    "history = model.fit(X_train, Y_train,\n",
    "                batch_size=BATCH_SIZE,\n",
    "                epochs=EPOCHS,\n",
    "                verbose=1,\n",
    "                validation_data=(X_test, Y_test),\n",
    "                callbacks = [PlotLossesCallback()]\n",
    "                     )"
   ]
  },
  {
   "cell_type": "markdown",
   "metadata": {},
   "source": [
    "# Grid Search"
   ]
  },
  {
   "cell_type": "code",
   "execution_count": null,
   "metadata": {},
   "outputs": [
    {
     "name": "stdout",
     "output_type": "stream",
     "text": [
      "Params: epochs= 100, batch_size= 8, dense_size= 100, learn_rate= 0.001, Accuracy=0.8846153616905212\n",
      "Params: epochs= 100, batch_size= 8, dense_size= 100, learn_rate= 0.0005, Accuracy=0.9153845906257629\n",
      "Params: epochs= 100, batch_size= 8, dense_size= 100, learn_rate= 0.0001, Accuracy=0.8769230842590332\n",
      "Params: epochs= 100, batch_size= 8, dense_size= 100, learn_rate= 0.0002, Accuracy=0.8769230842590332\n",
      "Params: epochs= 100, batch_size= 8, dense_size= 150, learn_rate= 0.001, Accuracy=0.8615384697914124\n",
      "Params: epochs= 100, batch_size= 8, dense_size= 150, learn_rate= 0.0005, Accuracy=0.892307698726654\n",
      "Params: epochs= 100, batch_size= 8, dense_size= 150, learn_rate= 0.0001, Accuracy=0.892307698726654\n",
      "Params: epochs= 100, batch_size= 8, dense_size= 150, learn_rate= 0.0002, Accuracy=0.9076923131942749\n",
      "Params: epochs= 100, batch_size= 8, dense_size= 256, learn_rate= 0.001, Accuracy=0.8846153616905212\n",
      "Params: epochs= 100, batch_size= 8, dense_size= 256, learn_rate= 0.0005, Accuracy=0.892307698726654\n",
      "Params: epochs= 100, batch_size= 8, dense_size= 256, learn_rate= 0.0001, Accuracy=0.9076923131942749\n",
      "Params: epochs= 100, batch_size= 8, dense_size= 256, learn_rate= 0.0002, Accuracy=0.892307698726654\n"
     ]
    }
   ],
   "source": [
    "# fit the model\n",
    "# Params: epochs= 200, batch_size= 32, dense_size= 256, learn_rate= 0.001, Accuracy=0.8781725764274597\n",
    "# Params: epochs= 100, batch_size= 8, dense_size= 100, learn_rate= 0.0005, Accuracy=0.9153845906257629\n",
    "flag = 2 # set flag: '0' for 10ghz, '1' for 24ghz, '2' for 77ghz, '3' for tobb 4ghz\n",
    "(radar, X_train, Y_train, X_test, Y_test) = select_data(flag)\n",
    "epochs = [100,150,200]\n",
    "batch_size = [8, 16, 32, 64]\n",
    "dense_size = [100, 150, 256]\n",
    "learn_rate = [0.001, 0.0005, 0.0001, 0.0002]\n",
    "acc_hist = []\n",
    "drop = 0.5\n",
    "for i in range(len(epochs)):\n",
    "    for j in range(len(batch_size)):\n",
    "        for k in range(len(dense_size)):\n",
    "            for m in range(len(learn_rate)):\n",
    "                model = Sequential()\n",
    "\n",
    "                model.add(model2)\n",
    "                model.add(Flatten())\n",
    "                model.add(Dense(dense_size[k], activation='relu'))\n",
    "                model.add(Dropout(drop))\n",
    "\n",
    "\n",
    "                model.add(Dense(dense_size[k], activation='relu'))\n",
    "                model.add(Dropout(drop))\n",
    "\n",
    "                model.add(Dense(num_class))\n",
    "                model.add(Activation('softmax'))\n",
    "                \n",
    "                optim = Adam(lr=learn_rate[m]) # decay rate = 5e-06 for xethru\n",
    "                model.compile(loss='categorical_crossentropy', optimizer=optim, metrics=['accuracy'])\n",
    "                history = model.fit(X_train, Y_train,\n",
    "                                batch_size=batch_size[j],\n",
    "                                epochs=epochs[i],\n",
    "                                verbose=0,\n",
    "                                validation_data=(X_test, Y_test)\n",
    "#                                 callbacks = [PlotLossesCallback()]\n",
    "                                     )\n",
    "                acc = history.history['val_accuracy'][-1]\n",
    "                acc_hist.append(acc)\n",
    "                print('Params: '+'epochs= '+str(epochs[i])+', batch_size= '+str(batch_size[j])+', dense_size= '+\n",
    "                     str(dense_size[k])+', learn_rate= '+str(learn_rate[m])+', Accuracy='+str(acc))"
   ]
  },
  {
   "cell_type": "markdown",
   "metadata": {},
   "source": [
    "## Confusion Matrix"
   ]
  },
  {
   "cell_type": "code",
   "execution_count": null,
   "metadata": {},
   "outputs": [],
   "source": [
    "import pandas as pd\n",
    "import seaborn as sn\n",
    "\n",
    "predictions = model.predict(X_test)\n",
    "Y_pred = np.argmax(predictions, axis=1)\n",
    "Y_test_int = np.argmax(Y_test, axis=1)\n",
    "#print(predictions[0:5])\n",
    "#print(Y_pred[0:5])\n",
    "#print(Y_test_int[0:5])\n",
    "data = {'y_Predicted': Y_pred,\n",
    "        'y_Actual':    Y_test_int\n",
    "        }\n",
    "\n",
    "df = pd.DataFrame(data, columns=['y_Actual','y_Predicted'])\n",
    "confusion_matrix = pd.crosstab(df['y_Actual'], df['y_Predicted'], rownames=['Actual'], colnames=['Predicted'], margins = False)\n",
    "fig3 = plt.figure()\n",
    "sn.heatmap(confusion_matrix, annot=True)\n",
    "#fig3.savefig('results/CAE/Conf_Model'+str(radar)+'_'+str(radar)+'GHz'+'_Batchsize'+str(BATCH_SIZE)+'_learning'+str(lr)+'_dropout'+str(drop)+'.png')\n",
    "#plt.close(fig3)"
   ]
  },
  {
   "cell_type": "code",
   "execution_count": null,
   "metadata": {},
   "outputs": [],
   "source": []
  }
 ],
 "metadata": {
  "kernelspec": {
   "display_name": "Python 3",
   "language": "python",
   "name": "python3"
  },
  "language_info": {
   "codemirror_mode": {
    "name": "ipython",
    "version": 3
   },
   "file_extension": ".py",
   "mimetype": "text/x-python",
   "name": "python",
   "nbconvert_exporter": "python",
   "pygments_lexer": "ipython3",
   "version": "3.7.2"
  }
 },
 "nbformat": 4,
 "nbformat_minor": 2
}
