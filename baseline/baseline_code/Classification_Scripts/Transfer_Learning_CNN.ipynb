{
 "cells": [
  {
   "cell_type": "code",
   "execution_count": 1,
   "metadata": {
    "scrolled": true
   },
   "outputs": [
    {
     "name": "stderr",
     "output_type": "stream",
     "text": [
      "Using TensorFlow backend.\n"
     ]
    }
   ],
   "source": [
    "%matplotlib inline\n",
    "import matplotlib.pyplot as plt\n",
    "import matplotlib.image as mpimg\n",
    "import tensorflow as tf\n",
    "from keras.preprocessing.image import ImageDataGenerator\n",
    "from keras.models import Sequential, Model\n",
    "from keras.optimizers import RMSprop,Adam,SGD\n",
    "from keras.layers import Activation, Dropout, Flatten, Dense, GlobalMaxPooling2D, Conv2D, MaxPooling2D\n",
    "from keras.callbacks import CSVLogger\n",
    "from livelossplot.keras import PlotLossesCallback\n",
    "import efficientnet.keras as efn\n",
    "import h5py\n",
    "import numpy as np\n",
    "import itertools\n",
    "from cnn_utils import *\n",
    "from tensorflow.compat.v1 import ConfigProto\n",
    "from tensorflow.compat.v1 import InteractiveSession\n",
    "from sklearn.metrics import classification_report, confusion_matrix\n",
    "\n",
    "np.random.seed(1)"
   ]
  },
  {
   "cell_type": "markdown",
   "metadata": {},
   "source": [
    "# Load Data"
   ]
  },
  {
   "cell_type": "code",
   "execution_count": 19,
   "metadata": {},
   "outputs": [
    {
     "name": "stdout",
     "output_type": "stream",
     "text": [
      "1. Radars Number of training samples:  519\n",
      "1. Radars Number of test samples:  130\n",
      "2. Radars Number of training samples:  1695\n",
      "2. Radars Number of test samples:  424\n",
      "3. Radars Number of training samples:  614\n",
      "3. Radars Number of test samples:  154\n"
     ]
    }
   ],
   "source": [
    "train_path = 'Spectograms_77_24_Xethrue_128x128/77_daily.hdf5'  # file path for the created .hdf5 file\n",
    "trainset = h5py.File(train_path, \"r\")\n",
    "train_path2 = 'Spectograms_77_24_Xethrue_128x128/24_daily.hdf5'  # file path for the created .hdf5 file\n",
    "trainset2 = h5py.File(train_path2, \"r\")\n",
    "train_path3 = 'Spectograms_77_24_Xethrue_128x128/XeThru_daily.hdf5'  # file path for the created .hdf5 file\n",
    "trainset3 = h5py.File(train_path3, \"r\")\n",
    "\n",
    "# valid_path = 'Spectograms_77_24_Xethrue_128x128/77_daily.hdf5'  # file path for the created .hdf5 file\n",
    "# validset = h5py.File(valid_path, \"r\")\n",
    "# valid_path2 = 'Spectograms_77_24_Xethrue_128x128/24_daily.hdf5'  # file path for the created .hdf5 file\n",
    "# validset2 = h5py.File(valid_path2, \"r\")\n",
    "# valid_path3 = 'Spectograms_77_24_Xethrue_128x128/XeThru_daily.hdf5'  # file path for the created .hdf5 file\n",
    "# validset3 = h5py.File(valid_path3, \"r\")\n",
    "\n",
    "test_path = 'Spectograms_77_24_Xethrue_128x128/77_daily.hdf5'  # file path for the created .hdf5 file\n",
    "testset = h5py.File(test_path, \"r\")\n",
    "test_path2 = 'Spectograms_77_24_Xethrue_128x128/24_daily.hdf5'  # file path for the created .hdf5 file\n",
    "testset2 = h5py.File(test_path2, \"r\")\n",
    "test_path3 = 'Spectograms_77_24_Xethrue_128x128/XeThru_daily.hdf5'  # file path for the created .hdf5 file\n",
    "testset3 = h5py.File(test_path3, \"r\")\n",
    "\n",
    "X_train_orig = np.array(trainset[\"train_img\"])\n",
    "Y_train_orig = np.array(trainset[\"train_labels\"])\n",
    "# X_valid_orig = np.array(validset[\"valid_img\"])\n",
    "# Y_valid_orig = np.array(validset[\"valid_labels\"])\n",
    "X_test_orig = np.array(testset[\"test_img\"])\n",
    "Y_test_orig = np.array(testset[\"test_labels\"])\n",
    "print('1. Radar''s Number of training samples: ', len(Y_train_orig))\n",
    "# print('1. Radar''s Number of validation samples: ', len(X_valid_orig))\n",
    "print('1. Radar''s Number of test samples: ', len(Y_test_orig))\n",
    "\n",
    "X_train_orig2 = np.array(trainset2[\"train_img\"])\n",
    "Y_train_orig2 = np.array(trainset2[\"train_labels\"])\n",
    "# X_valid_orig2 = np.array(validset2[\"valid_img\"])\n",
    "# Y_valid_orig2 = np.array(validset2[\"valid_labels\"])\n",
    "X_test_orig2 = np.array(testset2[\"test_img\"])\n",
    "Y_test_orig2 = np.array(testset2[\"test_labels\"])\n",
    "print('2. Radar''s Number of training samples: ', len(X_train_orig2))\n",
    "# print('2. Radar''s Number of validation samples: ', len(X_valid_orig2))\n",
    "print('2. Radar''s Number of test samples: ', len(X_test_orig2))\n",
    "\n",
    "X_train_orig3 = np.array(trainset3[\"train_img\"])\n",
    "Y_train_orig3 = np.array(trainset3[\"train_labels\"])\n",
    "# X_valid_orig3 = np.array(validset3[\"valid_img\"])\n",
    "# Y_valid_orig3 = np.array(validset3[\"valid_labels\"])\n",
    "X_test_orig3 = np.array(testset3[\"test_img\"])\n",
    "Y_test_orig3 = np.array(testset3[\"test_labels\"])\n",
    "print('3. Radar''s Number of training samples: ', len(X_train_orig3))\n",
    "# print('3. Radar''s Number of validation samples: ', len(X_valid_orig3))\n",
    "print('3. Radar''s Number of test samples: ', len(X_test_orig3))\n",
    "\n",
    "trainset.close()\n",
    "# validset.close()\n",
    "testset.close()\n",
    "trainset2.close()\n",
    "# validset2.close()\n",
    "testset2.close()\n",
    "trainset3.close()\n",
    "# validset3.close()\n",
    "testset3.close()"
   ]
  },
  {
   "cell_type": "markdown",
   "metadata": {},
   "source": [
    "## Examine the shapes of data"
   ]
  },
  {
   "cell_type": "code",
   "execution_count": 20,
   "metadata": {},
   "outputs": [
    {
     "name": "stdout",
     "output_type": "stream",
     "text": [
      "number of training examples = 519\n",
      "number of test examples = 130\n",
      "X_train shape: (519, 128, 128, 3)\n",
      "Y_train shape: (519, 11)\n",
      "X_test shape: (130, 128, 128, 3)\n",
      "Y_test shape: (130, 11)\n",
      "\n",
      "number of training examples = 1695\n",
      "number of test examples = 424\n",
      "X_train2 shape: (1695, 128, 128, 3)\n",
      "Y_train2 shape: (1695, 11)\n",
      "X_test2 shape: (424, 128, 128, 3)\n",
      "Y_test2 shape: (424, 11)\n",
      "\n",
      "number of training examples = 614\n",
      "number of test examples = 154\n",
      "X_train3 shape: (614, 128, 128, 3)\n",
      "Y_train3 shape: (614, 11)\n",
      "X_test3 shape: (154, 128, 128, 3)\n",
      "Y_test3 shape: (154, 11)\n"
     ]
    }
   ],
   "source": [
    "X_train = X_train_orig/255.\n",
    "# X_valid = X_valid_orig/255.\n",
    "X_test = X_test_orig/255.\n",
    "Y_train = convert_to_one_hot(Y_train_orig, 11).T\n",
    "# Y_valid = convert_to_one_hot(Y_valid_orig, 11).T\n",
    "Y_test = convert_to_one_hot(Y_test_orig, 11).T\n",
    "print (\"number of training examples = \" + str(X_train.shape[0]))\n",
    "# print (\"number of validation examples = \" + str(X_valid.shape[0]))\n",
    "print (\"number of test examples = \" + str(X_test.shape[0]))\n",
    "print (\"X_train shape: \" + str(X_train.shape))\n",
    "print (\"Y_train shape: \" + str(Y_train.shape))\n",
    "# print (\"X_valid shape: \" + str(X_valid.shape))\n",
    "# print (\"Y_valid shape: \" + str(Y_valid.shape))\n",
    "print (\"X_test shape: \" + str(X_test.shape))\n",
    "print (\"Y_test shape: \" + str(Y_test.shape))\n",
    "conv_layers = {}\n",
    "\n",
    "X_train2 = X_train_orig2/255.\n",
    "# X_valid2 = X_valid_orig2/255.\n",
    "X_test2 = X_test_orig2/255.\n",
    "Y_train2 = convert_to_one_hot(Y_train_orig2, 11).T\n",
    "# Y_valid2 = convert_to_one_hot(Y_valid_orig2, 11).T\n",
    "Y_test2 = convert_to_one_hot(Y_test_orig2, 11).T\n",
    "print (\"\\nnumber of training examples = \" + str(X_train2.shape[0]))\n",
    "# print (\"number of validation examples = \" + str(X_valid2.shape[0]))\n",
    "print (\"number of test examples = \" + str(X_test2.shape[0]))\n",
    "print (\"X_train2 shape: \" + str(X_train2.shape))\n",
    "print (\"Y_train2 shape: \" + str(Y_train2.shape))\n",
    "# print (\"X_valid2 shape: \" + str(X_valid2.shape))\n",
    "# print (\"Y_valid2 shape: \" + str(Y_valid2.shape))\n",
    "print (\"X_test2 shape: \" + str(X_test2.shape))\n",
    "print (\"Y_test2 shape: \" + str(Y_test2.shape))\n",
    "\n",
    "X_train3 = X_train_orig3/255.\n",
    "# X_valid3 = X_valid_orig3/255.\n",
    "X_test3 = X_test_orig3/255.\n",
    "Y_train3 = convert_to_one_hot(Y_train_orig3, 11).T\n",
    "# Y_valid3 = convert_to_one_hot(Y_valid_orig3, 11).T\n",
    "Y_test3 = convert_to_one_hot(Y_test_orig3, 11).T\n",
    "print (\"\\nnumber of training examples = \" + str(X_train3.shape[0]))\n",
    "# print (\"number of validation examples = \" + str(X_valid3.shape[0]))\n",
    "print (\"number of test examples = \" + str(X_test3.shape[0]))\n",
    "print (\"X_train3 shape: \" + str(X_train3.shape))\n",
    "print (\"Y_train3 shape: \" + str(Y_train3.shape))\n",
    "# print (\"X_valid3 shape: \" + str(X_valid3.shape))\n",
    "# print (\"Y_valid3 shape: \" + str(Y_valid3.shape))\n",
    "print (\"X_test3 shape: \" + str(X_test3.shape))\n",
    "print (\"Y_test3 shape: \" + str(Y_test3.shape))"
   ]
  },
  {
   "cell_type": "markdown",
   "metadata": {},
   "source": [
    "# Select Dataset"
   ]
  },
  {
   "cell_type": "code",
   "execution_count": 55,
   "metadata": {},
   "outputs": [],
   "source": [
    "def select_data(flag):\n",
    "\n",
    "    if flag==0:\n",
    "        X_Train = X_train\n",
    "        Y_Train = Y_train\n",
    "    #     X_valid = X_valid\n",
    "    #     Y_valid = Y_valid\n",
    "        X_Test = X_test\n",
    "        Y_Test = Y_test\n",
    "        radar = 77\n",
    "    elif flag==1:\n",
    "        X_Train = X_train2\n",
    "        Y_Train = Y_train2\n",
    "    #     X_valid = X_valid2\n",
    "    #     Y_valid = Y_valid2\n",
    "        X_Test = X_test2\n",
    "        Y_Test = Y_test2\n",
    "        radar = 24\n",
    "    elif flag==2: \n",
    "        X_Train = X_train3\n",
    "        Y_Train = Y_train3\n",
    "    #     X_valid = X_valid3\n",
    "    #     Y_valid = Y_valid3\n",
    "        X_Test = X_test3\n",
    "        Y_Test = Y_test3\n",
    "        radar = 10\n",
    "    return radar, X_Train, Y_Train, X_Test, Y_Test"
   ]
  },
  {
   "cell_type": "markdown",
   "metadata": {},
   "source": [
    "## Define Plotting & Saving Function"
   ]
  },
  {
   "cell_type": "code",
   "execution_count": 34,
   "metadata": {},
   "outputs": [],
   "source": [
    "def plot_fig(i, history):\n",
    "    fig = plt.figure()\n",
    "    plt.plot(range(1,EPOCHS+1),history.history['accuracy'],label='Training')\n",
    "    plt.plot(range(1,EPOCHS+1),history.history['val_accuracy'],label='Validation')\n",
    "    plt.legend(loc=0)\n",
    "    plt.xlabel('Epochs')\n",
    "    plt.ylabel('Accuracy')\n",
    "    plt.xlim([1,EPOCHS])\n",
    "    plt.grid(True)\n",
    "    plt.title(\"Model Accuracy\")\n",
    "    plt.show()\n",
    "    fig.savefig('results/Model'+str(i)+'_'+str(radar)+'GHz'+'_Batchsize'+str(BATCH_SIZE)+'_learning'+str(lr)+'_dropout'+str(drop)+'-acc.png')\n",
    "    plt.close(fig)\n",
    "    # summarize history for loss\n",
    "    fig2 = plt.figure()\n",
    "    plt.plot(range(1,EPOCHS+1),history.history['loss'],label='Training')\n",
    "    plt.plot(range(1,EPOCHS+1),history.history['val_loss'],label='Validation')\n",
    "    plt.legend(loc=0)\n",
    "    plt.title('Model Loss')\n",
    "    plt.ylabel('Loss')\n",
    "    plt.xlabel('Epoch')\n",
    "    plt.xlim([1,EPOCHS])\n",
    "    plt.grid(True)\n",
    "    plt.legend(['Train', 'Validation'], loc='upper left')\n",
    "    plt.show()\n",
    "    fig2.savefig('results/Model'+str(i)+'_'+str(radar)+'GHz'+'_Batchsize'+str(BATCH_SIZE)+'_learning'+str(lr)+'_dropout'+str(drop)+'-loss.png')\n",
    "    plt.close(fig2)"
   ]
  },
  {
   "cell_type": "code",
   "execution_count": 35,
   "metadata": {},
   "outputs": [],
   "source": [
    "# Hyperparams\n",
    "IMAGE_SIZE = 128\n",
    "IMAGE_WIDTH, IMAGE_HEIGHT = IMAGE_SIZE, IMAGE_SIZE\n",
    "EPOCHS = 100\n",
    "BATCH_SIZE = 64\n",
    "TEST_SIZE = 30\n",
    "\n",
    "input_shape = (IMAGE_WIDTH, IMAGE_HEIGHT, 3)"
   ]
  },
  {
   "cell_type": "code",
   "execution_count": 45,
   "metadata": {},
   "outputs": [],
   "source": [
    "# Define a simple sequential model\n",
    "def create_model(drop):\n",
    "    model = Sequential()\n",
    "\n",
    "    model.add(Conv2D(8, 8, 8, border_mode='same', input_shape=input_shape, activation='relu',trainable=False))\n",
    "    model.add(Conv2D(8, 8, 8, border_mode='same', activation='relu',trainable=False))\n",
    "    model.add(MaxPooling2D(pool_size=(2, 2),trainable=False))\n",
    "\n",
    "    model.add(Conv2D(16, 4, 4, border_mode='same', activation='relu',trainable=False))\n",
    "    model.add(Conv2D(16, 4, 4, border_mode='same', activation='relu',trainable=False))\n",
    "    model.add(MaxPooling2D(pool_size=(4, 4),trainable=False))\n",
    "\n",
    "    model.add(Conv2D(32, 2, 2, border_mode='same', activation='relu',trainable=False))\n",
    "    model.add(Conv2D(32, 2, 2, border_mode='same', activation='relu',trainable=False))\n",
    "    model.add(MaxPooling2D(pool_size=(4, 4),trainable=False)) #4,4\n",
    "    \n",
    "    model.add(Flatten(trainable=False))\n",
    "    model.add(Dense(512, activation='relu'))\n",
    "    model.add(Dropout(drop))\n",
    "\n",
    "    model.add(Dense(512, activation='relu'))\n",
    "    model.add(Dropout(drop))\n",
    "    \n",
    "    model.add(Dense(11))\n",
    "    model.add(Activation('softmax'))\n",
    "    return model"
   ]
  },
  {
   "cell_type": "markdown",
   "metadata": {},
   "source": [
    "# Load Trained Models"
   ]
  },
  {
   "cell_type": "code",
   "execution_count": 46,
   "metadata": {},
   "outputs": [
    {
     "name": "stderr",
     "output_type": "stream",
     "text": [
      "C:\\Users\\userpc\\Anaconda3\\envs\\tensorflow2-gpu\\lib\\site-packages\\ipykernel_launcher.py:5: UserWarning: Update your `Conv2D` call to the Keras 2 API: `Conv2D(8, (8, 8), input_shape=(128, 128,..., activation=\"relu\", trainable=False, padding=\"same\")`\n",
      "  \"\"\"\n",
      "C:\\Users\\userpc\\Anaconda3\\envs\\tensorflow2-gpu\\lib\\site-packages\\ipykernel_launcher.py:6: UserWarning: Update your `Conv2D` call to the Keras 2 API: `Conv2D(8, (8, 8), activation=\"relu\", trainable=False, padding=\"same\")`\n",
      "  \n",
      "C:\\Users\\userpc\\Anaconda3\\envs\\tensorflow2-gpu\\lib\\site-packages\\ipykernel_launcher.py:9: UserWarning: Update your `Conv2D` call to the Keras 2 API: `Conv2D(16, (4, 4), activation=\"relu\", trainable=False, padding=\"same\")`\n",
      "  if __name__ == '__main__':\n",
      "C:\\Users\\userpc\\Anaconda3\\envs\\tensorflow2-gpu\\lib\\site-packages\\ipykernel_launcher.py:10: UserWarning: Update your `Conv2D` call to the Keras 2 API: `Conv2D(16, (4, 4), activation=\"relu\", trainable=False, padding=\"same\")`\n",
      "  # Remove the CWD from sys.path while we load stuff.\n",
      "C:\\Users\\userpc\\Anaconda3\\envs\\tensorflow2-gpu\\lib\\site-packages\\ipykernel_launcher.py:13: UserWarning: Update your `Conv2D` call to the Keras 2 API: `Conv2D(32, (2, 2), activation=\"relu\", trainable=False, padding=\"same\")`\n",
      "  del sys.path[0]\n",
      "C:\\Users\\userpc\\Anaconda3\\envs\\tensorflow2-gpu\\lib\\site-packages\\ipykernel_launcher.py:14: UserWarning: Update your `Conv2D` call to the Keras 2 API: `Conv2D(32, (2, 2), activation=\"relu\", trainable=False, padding=\"same\")`\n",
      "  \n"
     ]
    },
    {
     "name": "stdout",
     "output_type": "stream",
     "text": [
      "<keras.layers.convolutional.Conv2D object at 0x000000BCB71AD0C8> False\n",
      "<keras.layers.convolutional.Conv2D object at 0x000000BCB04B0788> False\n",
      "<keras.layers.pooling.MaxPooling2D object at 0x000000BC51910C88> False\n",
      "<keras.layers.convolutional.Conv2D object at 0x000000BC5193C348> False\n",
      "<keras.layers.convolutional.Conv2D object at 0x000000BC5194C708> False\n",
      "<keras.layers.pooling.MaxPooling2D object at 0x000000BC519457C8> False\n",
      "<keras.layers.convolutional.Conv2D object at 0x000000BC519427C8> False\n",
      "<keras.layers.convolutional.Conv2D object at 0x000000BC51943C08> False\n",
      "<keras.layers.pooling.MaxPooling2D object at 0x000000BC51923F88> False\n",
      "<keras.layers.core.Flatten object at 0x000000BC51929B88> False\n",
      "<keras.layers.core.Dense object at 0x000000BC51929048> True\n",
      "<keras.layers.core.Dropout object at 0x000000BC5192B588> True\n",
      "<keras.layers.core.Dense object at 0x000000BCB0A0CA08> True\n",
      "<keras.layers.core.Dropout object at 0x000000BC5192B648> True\n",
      "<keras.layers.core.Dense object at 0x000000BCB0A05808> True\n",
      "<keras.layers.core.Activation object at 0x000000BCAEFF0388> True\n"
     ]
    }
   ],
   "source": [
    "drop = 0.5\n",
    "\n",
    "path77 = 'models/11_class_77.h5'\n",
    "path24 = 'models/11_class_24.h5'\n",
    "path10 = 'models/11_class_10.h5'\n",
    "\n",
    "model77 = create_model(drop)\n",
    "model24 = create_model(drop)\n",
    "model10 = create_model(drop)\n",
    "\n",
    "model77.load_weights(path77)\n",
    "model24.load_weights(path24)\n",
    "model10.load_weights(path10)\n",
    "\n",
    "# Check the trainable status of the individual layers\n",
    "for layer in model77.layers:\n",
    "    print(layer, layer.trainable)"
   ]
  },
  {
   "cell_type": "markdown",
   "metadata": {},
   "source": [
    "## Re-train Pre-trained Models"
   ]
  },
  {
   "cell_type": "code",
   "execution_count": 59,
   "metadata": {},
   "outputs": [
    {
     "data": {
      "image/png": "[encoded data removed]",
      "text/plain": [
       "<Figure size 864x576 with 2 Axes>"
      ]
     },
     "metadata": {
      "needs_background": "light"
     },
     "output_type": "display_data"
    },
    {
     "name": "stdout",
     "output_type": "stream",
     "text": [
      "Log-loss (cost function):\n",
      "training   (min:    0.769, max:    5.759, cur:    0.769)\n",
      "validation (min:    0.851, max:    2.936, cur:    0.851)\n",
      "\n",
      "accuracy:\n",
      "training   (min:    0.156, max:    0.703, cur:    0.697)\n",
      "validation (min:    0.184, max:    0.696, cur:    0.672)\n"
     ]
    }
   ],
   "source": [
    "lr = 0.0001\n",
    "# define optimiz75\n",
    "optim = Adam(lr=lr, decay=1e-06) # decay rate = 5e-06 for xethru\n",
    "# compile the model\n",
    "model = model10\n",
    "flag = 1 # set flag: '0' for 77ghz, '1' for 24ghz, '2' for 10ghz\n",
    "[radar, X_train, Y_train, X_test, Y_test] = select_data(flag) \n",
    "model.compile(loss='categorical_crossentropy', optimizer=optim, metrics=['accuracy'])\n",
    "\n",
    "# fit the model\n",
    "history1 = model.fit(X_train, Y_train,\n",
    "                batch_size=BATCH_SIZE,\n",
    "                epochs=EPOCHS,\n",
    "                verbose=1,\n",
    "                validation_data=(X_test, Y_test),\n",
    "                callbacks = [PlotLossesCallback()]\n",
    "                     )"
   ]
  },
  {
   "cell_type": "markdown",
   "metadata": {},
   "source": [
    "### Testing Accuracy"
   ]
  },
  {
   "cell_type": "code",
   "execution_count": 51,
   "metadata": {},
   "outputs": [
    {
     "name": "stdout",
     "output_type": "stream",
     "text": [
      "154/154 [==============================] - 1s 8ms/step\n"
     ]
    },
    {
     "data": {
      "text/plain": [
       "[0.7943357709166291, 0.7142857313156128]"
      ]
     },
     "execution_count": 51,
     "metadata": {},
     "output_type": "execute_result"
    }
   ],
   "source": [
    "model.evaluate(X_test,Y_test)"
   ]
  },
  {
   "cell_type": "code",
   "execution_count": null,
   "metadata": {},
   "outputs": [],
   "source": []
  }
 ],
 "metadata": {
  "kernelspec": {
   "display_name": "Python 3",
   "language": "python",
   "name": "python3"
  },
  "language_info": {
   "codemirror_mode": {
    "name": "ipython",
    "version": 3
   },
   "file_extension": ".py",
   "mimetype": "text/x-python",
   "name": "python",
   "nbconvert_exporter": "python",
   "pygments_lexer": "ipython3",
   "version": "3.7.6"
  }
 },
 "nbformat": 4,
 "nbformat_minor": 2
}
