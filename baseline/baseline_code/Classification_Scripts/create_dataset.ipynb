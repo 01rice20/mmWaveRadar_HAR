{
 "cells": [
  {
   "cell_type": "code",
   "execution_count": 14,
   "metadata": {
    "scrolled": true
   },
   "outputs": [
    {
     "name": "stdout",
     "output_type": "stream",
     "text": [
      "/media/m/FantomHD/COVID19 Sequential/Output/*/microDoppler/77ghz/Front/Cropped/colored/*/*.png\n",
      "952\n"
     ]
    }
   ],
   "source": [
    "from random import shuffle\n",
    "import glob\n",
    "\n",
    "shuffle_data = True  # shuffle the addresses\n",
    "\n",
    "hdf5_path = 'Covid19Seq_microDoppler128x128.hdf5'  # file path for the created .hdf5 file\n",
    "\n",
    "train_path = '/media/m/FantomHD/COVID19 Sequential/Output/*/microDoppler/77ghz/Front/Cropped/colored/*/*.png' # the original data path\n",
    "print(train_path)\n",
    "\n",
    "# get all the image paths \n",
    "addrs = glob.glob(train_path)\n",
    "print(len(addrs))\n"
   ]
  },
  {
   "cell_type": "code",
   "execution_count": 15,
   "metadata": {},
   "outputs": [],
   "source": [
    "labels = []\n",
    "for i in addrs:\n",
    "#     if 'Cane' in i:\n",
    "#         labels.append(0)\n",
    "#     elif 'Crawling' in i:\n",
    "#         labels.append(1)\n",
    "#     elif 'Creeping' in i:\n",
    "#         labels.append(2)\n",
    "#     elif 'Crutch' in i:\n",
    "#         labels.append(3)\n",
    "#     elif 'Falling Front' in i:\n",
    "#         labels.append(4)\n",
    "#     elif 'Limping' in i:\n",
    "#         labels.append(5)\n",
    "#     elif 'Running' in i:\n",
    "#         labels.append(6)\n",
    "#     elif 'Tripod' in i:\n",
    "#         labels.append(7)\n",
    "#     elif 'Walker' in i:\n",
    "#         labels.append(8)\n",
    "#     elif 'Walking' in i:\n",
    "#         labels.append(9)\n",
    "#     elif 'Wheeled Chair' in i:\n",
    "#         labels.append(10)\n",
    "\n",
    "#     elif 'YD' in i:\n",
    "#         labels.append(11)\n",
    "\n",
    "########################\n",
    "#     if 'towards' in i:\n",
    "#         labels.append(0)\n",
    "#     elif 'away' in i:\n",
    "#         labels.append(1)\n",
    "#     elif 'picking' in i:\n",
    "#         labels.append(2)\n",
    "#     elif 'bending' in i:\n",
    "#         labels.append(3)\n",
    "#     elif 'sitting' in i:\n",
    "#         labels.append(4)\n",
    "#     elif 'kneeling' in i:\n",
    "#         labels.append(5)\n",
    "#     elif 'crawling' in i:\n",
    "#         labels.append(6)\n",
    "#     elif 'toes' in i:\n",
    "#         labels.append(7)\n",
    "#     elif 'limping' in i:\n",
    "#         labels.append(8)\n",
    "#     elif 'short' in i:\n",
    "#         labels.append(9)\n",
    "#     elif 'scissor' in i:\n",
    "#         labels.append(10)\n",
    "##############\n",
    "    if 'no movement' in i:\n",
    "        labels.append(0)\n",
    "    elif 'walking' in i:\n",
    "        labels.append(1)\n",
    "    elif 'sitting' in i:\n",
    "        labels.append(2)\n",
    "    elif 'standing' in i:\n",
    "        labels.append(3)\n",
    "    elif 'folding laundry' in i:\n",
    "        labels.append(4)\n",
    "    elif 'ironing' in i:\n",
    "        labels.append(5)\n",
    "    elif 'you' in i:\n",
    "        labels.append(6)\n",
    "    elif 'hello' in i:\n",
    "        labels.append(7)\n",
    "    elif 'car' in i:\n",
    "        labels.append(8)\n",
    "    elif 'push' in i:\n",
    "        labels.append(9)\n"
   ]
  },
  {
   "cell_type": "code",
   "execution_count": 16,
   "metadata": {},
   "outputs": [
    {
     "name": "stdout",
     "output_type": "stream",
     "text": [
      "952\n"
     ]
    }
   ],
   "source": [
    "print(len(labels))"
   ]
  },
  {
   "cell_type": "code",
   "execution_count": 17,
   "metadata": {},
   "outputs": [
    {
     "name": "stdout",
     "output_type": "stream",
     "text": [
      "761\n",
      "191\n",
      "761\n",
      "191\n",
      "Train data: 50/761\n",
      "Train data: 100/761\n",
      "Train data: 150/761\n",
      "Train data: 200/761\n",
      "Train data: 250/761\n",
      "Train data: 300/761\n",
      "Train data: 350/761\n",
      "Train data: 400/761\n",
      "Train data: 450/761\n",
      "Train data: 500/761\n",
      "Train data: 550/761\n",
      "Train data: 600/761\n",
      "Train data: 650/761\n",
      "Train data: 700/761\n",
      "Train data: 750/761\n",
      "Test data: 50/191\n",
      "Test data: 100/191\n",
      "Test data: 150/191\n"
     ]
    }
   ],
   "source": [
    "\"\"\"\n",
    "# label the data as 0=cat, 1=dog\n",
    "\n",
    "labels = [0 if 'towards' in else 1 for addr in addrs] # extra is included in non-vehicles name \n",
    "          \n",
    "    \n",
    "\"\"\"\n",
    "\n",
    "# shuffle data\n",
    "if shuffle_data:\n",
    "    c = list(zip(addrs, labels)) # use zip() to bind the images and labels together\n",
    "    shuffle(c)\n",
    " \n",
    "    (addrs, labels) = zip(*c)  # *c is used to separate all the tuples in the list c,  \n",
    "                               # \"addrs\" then contains all the shuffled paths and \n",
    "                               # \"labels\" contains all the shuffled labels.\n",
    "                               \n",
    "# Divide the data into 80% for train and 20% for test\n",
    "# train_addrs = addrs[0:int(0.7*len(addrs))]\n",
    "# train_labels = labels[0:int(0.7*len(labels))]\n",
    "train_addrs = addrs[0:int(0.8*len(addrs))]\n",
    "train_labels = labels[0:int(0.8*len(labels))]\n",
    "\n",
    "# valid_addrs = addrs[int(0.7*len(addrs)):int(0.8*len(addrs))]\n",
    "# valid_labels = labels[int(0.7*len(labels)):int(0.8*len(addrs))]\n",
    "\n",
    "test_addrs = addrs[int(0.8*len(addrs)):]\n",
    "test_labels = labels[int(0.8*len(labels)):]\n",
    "\n",
    "print(len(train_addrs))\n",
    "# print(len(valid_addrs))\n",
    "print(len(test_addrs))\n",
    "print(len(train_labels))\n",
    "# print(len(valid_labels))\n",
    "print(len(test_labels))\n",
    "\n",
    "##################### second part: create the h5py object #####################\n",
    "import numpy as np\n",
    "import h5py, cv2\n",
    "im_width = 128\n",
    "im_height = 128\n",
    "train_shape = (len(train_addrs), im_height, im_width, 3)\n",
    "# valid_shape = (len(valid_addrs), im_width, im_height, 3)\n",
    "test_shape = (len(test_addrs), im_height, im_width, 3)\n",
    "\n",
    "# open a hdf5 file and create earrays \n",
    "f = h5py.File(hdf5_path, mode='w')\n",
    "\n",
    "# PIL.Image: the pixels range is 0-255,dtype is uint.\n",
    "# matplotlib: the pixels range is 0-1,dtype is float.\n",
    "f.create_dataset(\"train_img\", train_shape, np.uint8)\n",
    "# f.create_dataset(\"valid_img\", valid_shape, np.uint8)  \n",
    "f.create_dataset(\"test_img\", test_shape, np.uint8)  \n",
    "\n",
    "# the \".create_dataset\" object is like a dictionary, the \"train_labels\" is the key. \n",
    "f.create_dataset(\"train_labels\", (len(train_addrs),), np.uint8)\n",
    "f[\"train_labels\"][...] = train_labels\n",
    "\n",
    "# f.create_dataset(\"valid_labels\", (len(valid_addrs),), np.uint8)\n",
    "# f[\"valid_labels\"][...] = valid_labels\n",
    "\n",
    "f.create_dataset(\"test_labels\", (len(test_addrs),), np.uint8)\n",
    "f[\"test_labels\"][...] = test_labels\n",
    "\n",
    "######################## third part: write the images #########################\n",
    "import cv2\n",
    "\n",
    "# loop over train paths\n",
    "for i in range(len(train_addrs)):\n",
    "  \n",
    "    if i % 50 == 0 and i > 1:\n",
    "        print ('Train data: {}/{}'.format(i, len(train_addrs)) )\n",
    "\n",
    "    addr = train_addrs[i]\n",
    "    img = cv2.imread(addr)\n",
    "    img = cv2.resize(img, (im_width, im_height), interpolation=cv2.INTER_CUBIC)# resize to (128,128)\n",
    "    img = cv2.cvtColor(img, cv2.COLOR_BGR2RGB) # cv2 load images as BGR, convert it to RGB\n",
    "    f[\"train_img\"][i, ...] = img[None] \n",
    "\n",
    "    # loop over valid paths\n",
    "# for i in range(len(valid_addrs)):\n",
    "\n",
    "#     if i % 50 == 0 and i > 1:\n",
    "#         print ('Valid data: {}/{}'.format(i, len(valid_addrs)) )\n",
    "        \n",
    "#     addr = valid_addrs[i]\n",
    "#     img = cv2.imread(addr)\n",
    "#     img = cv2.resize(img, (im_width, im_height), interpolation=cv2.INTER_CUBIC)\n",
    "#     img = cv2.cvtColor(img, cv2.COLOR_BGR2RGB)\n",
    "#     f[\"valid_img\"][i, ...] = img[None]\n",
    "    \n",
    "# loop over test paths\n",
    "for i in range(len(test_addrs)):\n",
    "\n",
    "    if i % 50 == 0 and i > 1:\n",
    "        print ('Test data: {}/{}'.format(i, len(test_addrs)) )\n",
    "        \n",
    "    addr = test_addrs[i]\n",
    "    img = cv2.imread(addr)\n",
    "    img = cv2.resize(img, (im_width, im_height), interpolation=cv2.INTER_CUBIC)\n",
    "    img = cv2.cvtColor(img, cv2.COLOR_BGR2RGB)\n",
    "    f[\"test_img\"][i, ...] = img[None]\n",
    "\n",
    "f.close()\n"
   ]
  },
  {
   "cell_type": "code",
   "execution_count": 18,
   "metadata": {},
   "outputs": [],
   "source": [
    "f.close()"
   ]
  },
  {
   "cell_type": "markdown",
   "metadata": {},
   "source": [
    "## Read .h5 file and verify"
   ]
  },
  {
   "cell_type": "code",
   "execution_count": 19,
   "metadata": {},
   "outputs": [
    {
     "name": "stdout",
     "output_type": "stream",
     "text": [
      "761\n",
      "191\n"
     ]
    }
   ],
   "source": [
    "dataset = h5py.File(hdf5_path, \"r\")\n",
    "\n",
    "test_labels = np.array(dataset[\"test_labels\"])\n",
    "# valid_labels = np.array(dataset[\"valid_labels\"])\n",
    "train_labels = np.array(dataset[\"train_labels\"])\n",
    "train_img = np.array(dataset[\"train_img\"])\n",
    "# valid_img = np.array(dataset[\"valid_img\"])\n",
    "test_img = np.array(dataset[\"test_img\"])\n",
    "dataset.close()\n",
    "print(len(train_labels))\n",
    "# print(len(valid_labels))\n",
    "print(len(test_labels))\n",
    "cv2.imshow('Sample', test_img[5])\n",
    "\n"
   ]
  },
  {
   "cell_type": "code",
   "execution_count": null,
   "metadata": {},
   "outputs": [],
   "source": []
  }
 ],
 "metadata": {
  "kernelspec": {
   "display_name": "Python 3",
   "language": "python",
   "name": "python3"
  },
  "language_info": {
   "codemirror_mode": {
    "name": "ipython",
    "version": 3
   },
   "file_extension": ".py",
   "mimetype": "text/x-python",
   "name": "python",
   "nbconvert_exporter": "python",
   "pygments_lexer": "ipython3",
   "version": "3.7.2"
  },
  "widgets": {
   "state": {
    "198b1c2482a344d69143819abc57d8ab": {
     "views": [
      {
       "cell_index": 12
      }
     ]
    },
    "925b2dc0719b43b49612d1453eb0a2c3": {
     "views": [
      {
       "cell_index": 12
      }
     ]
    }
   },
   "version": "1.2.0"
  }
 },
 "nbformat": 4,
 "nbformat_minor": 2
}
